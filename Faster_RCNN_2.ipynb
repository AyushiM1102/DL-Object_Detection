{
  "nbformat": 4,
  "nbformat_minor": 0,
  "metadata": {
    "colab": {
      "name": "Faster_RCNN_2.ipynb",
      "provenance": [],
      "machine_shape": "hm",
      "include_colab_link": true
    },
    "kernelspec": {
      "name": "python3",
      "display_name": "Python 3"
    },
    "language_info": {
      "name": "python"
    },
    "accelerator": "GPU"
  },
  "cells": [
    {
      "cell_type": "markdown",
      "metadata": {
        "id": "view-in-github",
        "colab_type": "text"
      },
      "source": [
        "<a href=\"https://colab.research.google.com/github/amcheyre-nw/DL_Object_detection/blob/main/Faster_RCNN_2.ipynb\" target=\"_parent\"><img src=\"https://colab.research.google.com/assets/colab-badge.svg\" alt=\"Open In Colab\"/></a>"
      ]
    },
    {
      "cell_type": "code",
      "execution_count": 43,
      "metadata": {
        "id": "eHDXrkgp5ZT4",
        "colab": {
          "base_uri": "https://localhost:8080/"
        },
        "outputId": "7c273bd2-38ac-4b5b-ebc1-ee9405af2d12"
      },
      "outputs": [
        {
          "output_type": "stream",
          "name": "stdout",
          "text": [
            "fatal: destination path 'vision' already exists and is not an empty directory.\n",
            "fatal: not a git repository (or any of the parent directories): .git\n"
          ]
        }
      ],
      "source": [
        "# Download TorchVision repo to use some files from references/detection\n",
        "!pip install pycocotools --quiet\n",
        "!git clone https://github.com/pytorch/vision.git\n",
        "!git checkout v0.3.0\n",
        "\n",
        "!cp vision/references/detection/utils.py ./\n",
        "!cp vision/references/detection/transforms.py ./\n",
        "!cp vision/references/detection/coco_eval.py ./\n",
        "!cp vision/references/detection/engine.py ./\n",
        "!cp vision/references/detection/coco_utils.py ./"
      ]
    },
    {
      "cell_type": "code",
      "source": [
        "# Install libraries\n",
        "! pip install albumentations==0.4.6"
      ],
      "metadata": {
        "id": "2i3qeD4VEGRC",
        "colab": {
          "base_uri": "https://localhost:8080/"
        },
        "outputId": "12974dc8-8b12-4b31-c411-3d21cf607316"
      },
      "execution_count": 44,
      "outputs": [
        {
          "output_type": "stream",
          "name": "stdout",
          "text": [
            "Requirement already satisfied: albumentations==0.4.6 in /usr/local/lib/python3.7/dist-packages (0.4.6)\n",
            "Requirement already satisfied: numpy>=1.11.1 in /usr/local/lib/python3.7/dist-packages (from albumentations==0.4.6) (1.21.5)\n",
            "Requirement already satisfied: scipy in /usr/local/lib/python3.7/dist-packages (from albumentations==0.4.6) (1.4.1)\n",
            "Requirement already satisfied: opencv-python>=4.1.1 in /usr/local/lib/python3.7/dist-packages (from albumentations==0.4.6) (4.1.2.30)\n",
            "Requirement already satisfied: PyYAML in /usr/local/lib/python3.7/dist-packages (from albumentations==0.4.6) (3.13)\n",
            "Requirement already satisfied: imgaug>=0.4.0 in /usr/local/lib/python3.7/dist-packages (from albumentations==0.4.6) (0.4.0)\n",
            "Requirement already satisfied: scikit-image>=0.14.2 in /usr/local/lib/python3.7/dist-packages (from imgaug>=0.4.0->albumentations==0.4.6) (0.18.3)\n",
            "Requirement already satisfied: six in /usr/local/lib/python3.7/dist-packages (from imgaug>=0.4.0->albumentations==0.4.6) (1.15.0)\n",
            "Requirement already satisfied: matplotlib in /usr/local/lib/python3.7/dist-packages (from imgaug>=0.4.0->albumentations==0.4.6) (3.2.2)\n",
            "Requirement already satisfied: Shapely in /usr/local/lib/python3.7/dist-packages (from imgaug>=0.4.0->albumentations==0.4.6) (1.8.1.post1)\n",
            "Requirement already satisfied: Pillow in /usr/local/lib/python3.7/dist-packages (from imgaug>=0.4.0->albumentations==0.4.6) (7.1.2)\n",
            "Requirement already satisfied: imageio in /usr/local/lib/python3.7/dist-packages (from imgaug>=0.4.0->albumentations==0.4.6) (2.4.1)\n",
            "Requirement already satisfied: PyWavelets>=1.1.1 in /usr/local/lib/python3.7/dist-packages (from scikit-image>=0.14.2->imgaug>=0.4.0->albumentations==0.4.6) (1.2.0)\n",
            "Requirement already satisfied: tifffile>=2019.7.26 in /usr/local/lib/python3.7/dist-packages (from scikit-image>=0.14.2->imgaug>=0.4.0->albumentations==0.4.6) (2021.11.2)\n",
            "Requirement already satisfied: networkx>=2.0 in /usr/local/lib/python3.7/dist-packages (from scikit-image>=0.14.2->imgaug>=0.4.0->albumentations==0.4.6) (2.6.3)\n",
            "Requirement already satisfied: cycler>=0.10 in /usr/local/lib/python3.7/dist-packages (from matplotlib->imgaug>=0.4.0->albumentations==0.4.6) (0.11.0)\n",
            "Requirement already satisfied: kiwisolver>=1.0.1 in /usr/local/lib/python3.7/dist-packages (from matplotlib->imgaug>=0.4.0->albumentations==0.4.6) (1.3.2)\n",
            "Requirement already satisfied: pyparsing!=2.0.4,!=2.1.2,!=2.1.6,>=2.0.1 in /usr/local/lib/python3.7/dist-packages (from matplotlib->imgaug>=0.4.0->albumentations==0.4.6) (3.0.7)\n",
            "Requirement already satisfied: python-dateutil>=2.1 in /usr/local/lib/python3.7/dist-packages (from matplotlib->imgaug>=0.4.0->albumentations==0.4.6) (2.8.2)\n"
          ]
        }
      ]
    },
    {
      "cell_type": "code",
      "source": [
        "# Python and ML Libraries\n",
        "import os\n",
        "import random\n",
        "import numpy as np\n",
        "import pandas as pd\n",
        "# for ignoring warnings\n",
        "import warnings\n",
        "warnings.filterwarnings('ignore')\n",
        "\n",
        "# We will be reading images using OpenCV\n",
        "import cv2\n",
        "import json\n",
        "\n",
        "# xml library for parsing xml files\n",
        "from xml.etree import ElementTree as et\n",
        "\n",
        "# matplotlib for visualization\n",
        "import matplotlib.pyplot as plt\n",
        "import matplotlib.patches as patches\n",
        "\n",
        "# torchvision libraries\n",
        "import torch\n",
        "import torchvision\n",
        "from torchvision import transforms as torchtrans  \n",
        "from torchvision.models.detection.faster_rcnn import FastRCNNPredictor\n",
        "\n",
        "# these are the helper libraries imported.\n",
        "from engine import train_one_epoch, evaluate\n",
        "import utils\n",
        "import transforms as T\n",
        "\n",
        "# for image augmentations (not working this)\n",
        "import albumentations as A\n",
        "from albumentations.pytorch.transforms import ToTensorV2"
      ],
      "metadata": {
        "id": "eDX6htmdAMRy"
      },
      "execution_count": 45,
      "outputs": []
    },
    {
      "cell_type": "markdown",
      "source": [
        "## BBD100K Dataset"
      ],
      "metadata": {
        "id": "tlQQdpnwDLht"
      }
    },
    {
      "cell_type": "code",
      "source": [
        "# Import database\n",
        "from google.colab import drive\n",
        "drive.mount('/content/drive', force_remount=True)"
      ],
      "metadata": {
        "colab": {
          "base_uri": "https://localhost:8080/"
        },
        "id": "eTJ5-pheTZEs",
        "outputId": "733ce4bf-1059-4a08-9e8a-56e681b0b9f7"
      },
      "execution_count": 57,
      "outputs": [
        {
          "output_type": "stream",
          "name": "stdout",
          "text": [
            "Mounted at /content/drive\n"
          ]
        }
      ]
    },
    {
      "cell_type": "code",
      "source": [
        "# defining the files directory and testing directory\n",
        "files_dir = '/content/drive/MyDrive/BDD100K/sample_train'\n",
        "test_dir = '/content/drive/MyDrive/BDD100K/sample_val'"
      ],
      "metadata": {
        "id": "6GDnJgq91oii"
      },
      "execution_count": 58,
      "outputs": []
    },
    {
      "cell_type": "code",
      "source": [
        "# Load the json files\n",
        "train_path = '/content/drive/MyDrive/BDD100K/labels_FRCNN/bdd100k_labels_images_train.json'\n",
        "test_path = '/content/drive/MyDrive/BDD100K/labels_FRCNN/bdd100k_labels_images_val.json'\n",
        "\n",
        "json_train = json.load(open(train_path))\n",
        "json_test = json.load(open(test_path))\n",
        "\n",
        "# We create dictonaries were the keys are the name of the image and values are the json content\n",
        "dict_train = {}\n",
        "for j in json_train:\n",
        "  dict_train[j['name']] = j\n",
        "\n",
        "dict_test = {}\n",
        "for j in json_test:\n",
        "  dict_test[j['name']] = j"
      ],
      "metadata": {
        "id": "qujxzV7ykV3S"
      },
      "execution_count": 59,
      "outputs": []
    },
    {
      "cell_type": "code",
      "source": [
        "class SelfDrivingCarDataset(torch.utils.data.Dataset):\n",
        "\n",
        "    def __init__(self, files_dir, width, height, transforms=None):\n",
        "        self.transforms = transforms\n",
        "        self.files_dir = files_dir\n",
        "        self.height = height\n",
        "        self.width = width\n",
        "        \n",
        "        # sorting the images for consistency\n",
        "        # To get images, the extension of the filename is checked to be jpg\n",
        "        image_list = []\n",
        "        for image in sorted(os.listdir(self.files_dir)):\n",
        "          if image[-4:]=='.jpg' and (image in dict_train.keys() or image in dict_test.keys()):\n",
        "            image_list.append(image)\n",
        "          else:\n",
        "            print(image)\n",
        "        \n",
        "        self.imgs = image_list\n",
        "        #\n",
        "        self.imgs = [image for image in sorted(os.listdir(self.files_dir)) if image[-4:]=='.jpg']\n",
        "        \n",
        "        # classes: 0 index is reserved for background\n",
        "        # classes bike -> bicycle, motor -> motorcycle, pedestrian -> person (check in COCO)\n",
        "        self.classes = [_,'person', 'rider', 'car', 'truck', 'bus', 'train', 'motorcycle', 'bicycle',\n",
        "                        'traffic light', 'traffic sign']\n",
        "\n",
        "    def __getitem__(self, idx):\n",
        "        cv2.setNumThreads(0)\n",
        "        img_name = self.imgs[idx]\n",
        "        image_path = os.path.join(self.files_dir, img_name)\n",
        "\n",
        "        # reading the images and converting them to correct size and color    \n",
        "        img = cv2.imread(image_path)\n",
        "\n",
        "        scale_percent = 20 # percent of original size\n",
        "        self.width = int(img.shape[1] * scale_percent / 100)\n",
        "        self.height = int(img.shape[0] * scale_percent / 100)\n",
        "        dim = (self.width, self.height)\n",
        "\n",
        "        img_rgb = cv2.cvtColor(img, cv2.COLOR_BGR2RGB).astype(np.float32)\n",
        "\n",
        "        img_res = cv2.resize(img_rgb, dim, cv2.INTER_AREA)\n",
        "        img_res /= 255.0\n",
        "        \n",
        "        # annotation file\n",
        "\n",
        "        if self.files_dir == files_dir:\n",
        "          data_dict = dict_train\n",
        "        else:\n",
        "          data_dict = dict_test\n",
        "        \n",
        "        boxes = []\n",
        "        labels = []\n",
        "        images = []\n",
        "        \n",
        "        # cv2 image gives size as height x width\n",
        "        wt = img.shape[1]\n",
        "        ht = img.shape[0]\n",
        "        \n",
        "        # get information from the image\n",
        "        for i in range(len(data_dict[img_name]['labels'])):\n",
        "          label = data_dict[img_name]['labels'][i]['category']\n",
        "          if label in self.classes:\n",
        "            labels.append(self.classes.index(label))\n",
        "            \n",
        "            # bounding box\n",
        "            xmin = data_dict[img_name]['labels'][i]['box2d']['x1']\n",
        "            xmax = data_dict[img_name]['labels'][i]['box2d']['x2']\n",
        "            \n",
        "            ymin = data_dict[img_name]['labels'][i]['box2d']['y1']\n",
        "            ymax = data_dict[img_name]['labels'][i]['box2d']['y2']\n",
        "                  \n",
        "            xmin_corr = (xmin/wt)*self.width\n",
        "            xmax_corr = (xmax/wt)*self.width\n",
        "            ymin_corr = (ymin/ht)*self.height\n",
        "            ymax_corr = (ymax/ht)*self.height\n",
        "            \n",
        "            boxes.append([xmin_corr, ymin_corr, xmax_corr, ymax_corr])\n",
        "        \n",
        "        # convert boxes into a torch.Tensor\n",
        "        boxes = torch.as_tensor(boxes, dtype=torch.float32)\n",
        "        \n",
        "        # getting the areas of the boxes\n",
        "        \n",
        "        area = (boxes[:, 3] - boxes[:, 1]) * (boxes[:, 2] - boxes[:, 0])\n",
        "\n",
        "        # suppose all instances are not crowd\n",
        "        iscrowd = torch.zeros((boxes.shape[0],), dtype=torch.int64)\n",
        "        \n",
        "        labels = torch.as_tensor(labels, dtype=torch.int64)\n",
        "\n",
        "\n",
        "        target = {}\n",
        "        target[\"boxes\"] = boxes\n",
        "        target[\"labels\"] = labels\n",
        "        target[\"area\"] = area\n",
        "        target[\"iscrowd\"] = iscrowd\n",
        "        # image_id\n",
        "        image_id = torch.tensor([idx])\n",
        "        target[\"image_id\"] = image_id\n",
        "\n",
        "\n",
        "        if self.transforms:\n",
        "            \n",
        "            sample = self.transforms(image = img_res,\n",
        "                                     bboxes = target['boxes'],\n",
        "                                     labels = labels)\n",
        "            \n",
        "            img_res = sample['image']\n",
        "            target['boxes'] = torch.Tensor(sample['bboxes'])\n",
        "            \n",
        "        return img_res, target\n",
        "\n",
        "    def __len__(self):\n",
        "        return len(self.imgs)\n",
        "\n",
        "\n",
        "# check dataset\n",
        "dataset = SelfDrivingCarDataset(files_dir, 1280, 720)\n",
        "print('length of dataset = ', len(dataset), '\\n')\n",
        "\n",
        "# getting the image and target for a test index.  Feel free to change the index.\n",
        "img, target = dataset[150]\n",
        "print(img.shape, '\\n', target)"
      ],
      "metadata": {
        "id": "SM-o5OTGBfC6",
        "colab": {
          "base_uri": "https://localhost:8080/"
        },
        "outputId": "ce9137a0-9866-482b-93f9-3c82c0b275d2"
      },
      "execution_count": 60,
      "outputs": [
        {
          "output_type": "stream",
          "name": "stdout",
          "text": [
            "length of dataset =  11428 \n",
            "\n",
            "(144, 256, 3) \n",
            " {'boxes': tensor([[ 45.1571,  32.8324,  55.7353,  43.2111],\n",
            "        [ 45.1571,  42.8119,  56.1345,  45.6061],\n",
            "        [ 45.5562,  46.0053,  56.5337,  55.7852],\n",
            "        [ 62.5213,  41.4148,  64.5172,  43.2111],\n",
            "        [ 62.9205,  39.4189,  64.9164,  41.0156],\n",
            "        [102.0400,  44.4086, 105.4330,  46.4045]]), 'labels': tensor([10, 10, 10,  9,  9,  3]), 'area': tensor([109.7877,  30.6736, 107.3577,   3.5852,   3.1869,   6.7721]), 'iscrowd': tensor([0, 0, 0, 0, 0, 0]), 'image_id': tensor([150])}\n"
          ]
        }
      ]
    },
    {
      "cell_type": "markdown",
      "source": [
        "## Visualization of bounding boxes"
      ],
      "metadata": {
        "id": "iV86SfIPDSFC"
      }
    },
    {
      "cell_type": "code",
      "source": [
        "def plot_img_bbox(img, target):\n",
        "    # plot the image and bboxes\n",
        "    # Bounding boxes are defined as follows: x-min y-min width height\n",
        "    fig, a = plt.subplots(1,1)\n",
        "    fig.set_size_inches(5,5)\n",
        "    a.imshow(img)\n",
        "\n",
        "    for box in (target['boxes']):\n",
        "      \n",
        "        x, y, width, height  = box[0], box[1], box[2]-box[0], box[3]-box[1]\n",
        "        rect = patches.Rectangle((x, y),\n",
        "                                 width, height,\n",
        "                                 linewidth = 2,\n",
        "                                 edgecolor = 'r',\n",
        "                                 facecolor = 'none')\n",
        "\n",
        "        # Draw the bounding box on top of the image\n",
        "        a.add_patch(rect)\n",
        "    plt.show()\n",
        "    \n",
        "# plotting the image with bboxes. Feel free to change the index\n",
        "img, target = dataset[200]\n",
        "plot_img_bbox(img, target)"
      ],
      "metadata": {
        "id": "IVQOnu42Btzc",
        "colab": {
          "base_uri": "https://localhost:8080/",
          "height": 207
        },
        "outputId": "e68f36dd-de6e-4e7e-e21e-792300d16259"
      },
      "execution_count": 61,
      "outputs": [
        {
          "output_type": "display_data",
          "data": {
            "image/png": "[encoded data removed]",
            "text/plain": [
              "<Figure size 360x360 with 1 Axes>"
            ]
          },
          "metadata": {
            "needs_background": "light"
          }
        }
      ]
    },
    {
      "cell_type": "markdown",
      "source": [
        "# Load the pre-trained model Fast RCNN"
      ],
      "metadata": {
        "id": "EPuFaJVbDXFR"
      }
    },
    {
      "cell_type": "code",
      "source": [
        "# Pre-trained model\n",
        "def get_object_detection_model(num_classes):\n",
        "\n",
        "    # load a model pre-trained pre-trained on COCO\n",
        "    model = torchvision.models.detection.fasterrcnn_resnet50_fpn(pretrained=True, trainable_backbone_layers=3)\n",
        "\n",
        "    for param in model.parameters():\n",
        "      param.requires_grad = False \n",
        "    \n",
        "    # get number of input features for the classifier\n",
        "    in_features = model.roi_heads.box_predictor.cls_score.in_features\n",
        "    # replace the pre-trained head with a new one\n",
        "    model.roi_heads.box_predictor = FastRCNNPredictor(in_features, num_classes) \n",
        "\n",
        "    return model"
      ],
      "metadata": {
        "id": "_UG78sLW5tTH"
      },
      "execution_count": 62,
      "outputs": []
    },
    {
      "cell_type": "markdown",
      "source": [
        "# Data Augmentation"
      ],
      "metadata": {
        "id": "-eS-ROSFDbxA"
      }
    },
    {
      "cell_type": "code",
      "source": [
        "# Send train=True fro training transforms and False for val/test transforms\n",
        "def get_transform(train):\n",
        "    \n",
        "    if train:\n",
        "        return A.Compose([\n",
        "                            A.HorizontalFlip(0.5),\n",
        "                     # ToTensorV2 converts image to pytorch tensor without div by 255\n",
        "                            ToTensorV2(p=1.0) \n",
        "                        ], bbox_params={'format': 'pascal_voc', 'label_fields': ['labels']})\n",
        "    else:\n",
        "        return A.Compose([\n",
        "                            ToTensorV2(p=1.0)\n",
        "                        ], bbox_params={'format': 'pascal_voc', 'label_fields': ['labels']})"
      ],
      "metadata": {
        "id": "ddZQojpBB9fC"
      },
      "execution_count": 63,
      "outputs": []
    },
    {
      "cell_type": "markdown",
      "source": [
        "# Preparing dataset"
      ],
      "metadata": {
        "id": "tr9wmyiOCLLt"
      }
    },
    {
      "cell_type": "code",
      "source": [
        "# use our dataset and defined transformations\n",
        "dataset = SelfDrivingCarDataset(files_dir, 1280, 720, transforms= get_transform(train=True))\n",
        "dataset_test = SelfDrivingCarDataset(files_dir, 1280, 720, transforms= get_transform(train=False))\n",
        "\n",
        "# split the dataset in train and test set\n",
        "torch.manual_seed(1)\n",
        "indices = torch.randperm(len(dataset)).tolist()\n",
        "\n",
        "# train test split\n",
        "test_split = 0.2\n",
        "tsize = int(len(dataset)*test_split)\n",
        "dataset = torch.utils.data.Subset(dataset, indices[:-tsize])\n",
        "dataset_test = torch.utils.data.Subset(dataset_test, indices[-tsize:])\n",
        "\n",
        "# define training and validation data loaders\n",
        "data_loader = torch.utils.data.DataLoader(\n",
        "    dataset, batch_size=16, shuffle=True, num_workers=0,\n",
        "    collate_fn=utils.collate_fn)\n",
        "\n",
        "data_loader_test = torch.utils.data.DataLoader(\n",
        "    dataset_test, batch_size=16, shuffle=False, num_workers=0,\n",
        "    collate_fn=utils.collate_fn)\n"
      ],
      "metadata": {
        "id": "MMlxqxjLCP2R"
      },
      "execution_count": 64,
      "outputs": []
    },
    {
      "cell_type": "markdown",
      "source": [
        "# Training the model"
      ],
      "metadata": {
        "id": "zSQRx_HpChAM"
      }
    },
    {
      "cell_type": "code",
      "source": [
        "# to train on gpu if selected.\n",
        "device = torch.device('cuda') if torch.cuda.is_available() else torch.device('cpu')\n",
        "\n",
        "num_classes = 11\n",
        "\n",
        "# get the model using our helper function\n",
        "model = get_object_detection_model(num_classes)\n",
        "\n",
        "# move model to the right device\n",
        "model.to(device)\n",
        "\n",
        "# construct an optimizer\n",
        "params = [p for p in model.parameters() if p.requires_grad]\n",
        "optimizer = torch.optim.SGD(params, lr=0.005,\n",
        "                            momentum=0.9, weight_decay=0.0005)\n",
        "\n",
        "# and a learning rate scheduler which decreases the learning rate by\n",
        "# 10x every 3 epochs\n",
        "lr_scheduler = torch.optim.lr_scheduler.StepLR(optimizer,\n",
        "                                               step_size=3,\n",
        "                                               gamma=0.1)"
      ],
      "metadata": {
        "id": "c3aF5XBpCi8G"
      },
      "execution_count": 70,
      "outputs": []
    },
    {
      "cell_type": "code",
      "source": [
        "# training for 2 epochs\n",
        "num_epochs = 15\n",
        "\n",
        "for epoch in range(num_epochs):\n",
        "    # training for one epoch\n",
        "    train_one_epoch(model, optimizer, data_loader, device, epoch, print_freq=10)\n",
        "    # update the learning rate\n",
        "    lr_scheduler.step()\n",
        "    # evaluate on the test dataset\n",
        "    evaluate(model, data_loader_test, device=device)"
      ],
      "metadata": {
        "id": "1dHLDYXHCUBo",
        "colab": {
          "base_uri": "https://localhost:8080/",
          "height": 1000
        },
        "outputId": "b30adde2-c160-4d63-ab4a-19ba86a34d4e"
      },
      "execution_count": 71,
      "outputs": [
        {
          "output_type": "stream",
          "name": "stdout",
          "text": [
            "Epoch: [0]  [  0/572]  eta: 0:15:05  lr: 0.000014  loss: 4.1659 (4.1659)  loss_classifier: 2.3270 (2.3270)  loss_box_reg: 0.8658 (0.8658)  loss_objectness: 0.7583 (0.7583)  loss_rpn_box_reg: 0.2147 (0.2147)  time: 1.5828  data: 0.3177  max mem: 10202\n",
            "Epoch: [0]  [ 10/572]  eta: 0:14:50  lr: 0.000101  loss: 4.2542 (4.2128)  loss_classifier: 2.2767 (2.2292)  loss_box_reg: 0.8586 (0.8500)  loss_objectness: 0.8972 (0.8828)  loss_rpn_box_reg: 0.2372 (0.2507)  time: 1.5848  data: 0.3282  max mem: 10202\n",
            "Epoch: [0]  [ 20/572]  eta: 0:14:31  lr: 0.000189  loss: 3.8807 (3.8424)  loss_classifier: 1.9636 (1.9151)  loss_box_reg: 0.8585 (0.8470)  loss_objectness: 0.8444 (0.8340)  loss_rpn_box_reg: 0.2372 (0.2463)  time: 1.5793  data: 0.3249  max mem: 10202\n",
            "Epoch: [0]  [ 30/572]  eta: 0:14:15  lr: 0.000276  loss: 3.0688 (3.5507)  loss_classifier: 1.1103 (1.6014)  loss_box_reg: 0.8264 (0.8352)  loss_objectness: 0.8048 (0.8677)  loss_rpn_box_reg: 0.2413 (0.2464)  time: 1.5744  data: 0.3214  max mem: 10202\n",
            "Epoch: [0]  [ 40/572]  eta: 0:13:59  lr: 0.000364  loss: 2.7010 (3.3272)  loss_classifier: 0.8419 (1.4103)  loss_box_reg: 0.8007 (0.8220)  loss_objectness: 0.8048 (0.8521)  loss_rpn_box_reg: 0.2345 (0.2428)  time: 1.5760  data: 0.3231  max mem: 10202\n",
            "Epoch: [0]  [ 50/572]  eta: 0:13:44  lr: 0.000451  loss: 2.5851 (3.1782)  loss_classifier: 0.7248 (1.2682)  loss_box_reg: 0.7792 (0.8132)  loss_objectness: 0.7744 (0.8498)  loss_rpn_box_reg: 0.2345 (0.2470)  time: 1.5820  data: 0.3284  max mem: 10202\n",
            "Epoch: [0]  [ 60/572]  eta: 0:13:28  lr: 0.000539  loss: 2.4958 (3.0521)  loss_classifier: 0.6423 (1.1610)  loss_box_reg: 0.7604 (0.8007)  loss_objectness: 0.7375 (0.8422)  loss_rpn_box_reg: 0.2396 (0.2482)  time: 1.5797  data: 0.3266  max mem: 10202\n",
            "Epoch: [0]  [ 70/572]  eta: 0:13:13  lr: 0.000626  loss: 2.4003 (2.9688)  loss_classifier: 0.6075 (1.0817)  loss_box_reg: 0.7137 (0.7884)  loss_objectness: 0.8082 (0.8493)  loss_rpn_box_reg: 0.2397 (0.2494)  time: 1.5810  data: 0.3270  max mem: 10202\n",
            "Epoch: [0]  [ 80/572]  eta: 0:12:57  lr: 0.000714  loss: 2.3498 (2.8862)  loss_classifier: 0.5779 (1.0168)  loss_box_reg: 0.7064 (0.7775)  loss_objectness: 0.7779 (0.8453)  loss_rpn_box_reg: 0.2397 (0.2466)  time: 1.5854  data: 0.3313  max mem: 10202\n",
            "Epoch: [0]  [ 90/572]  eta: 0:12:41  lr: 0.000801  loss: 2.3022 (2.8281)  loss_classifier: 0.5434 (0.9654)  loss_box_reg: 0.6897 (0.7684)  loss_objectness: 0.8196 (0.8470)  loss_rpn_box_reg: 0.2388 (0.2473)  time: 1.5801  data: 0.3266  max mem: 10202\n",
            "Epoch: [0]  [100/572]  eta: 0:12:25  lr: 0.000889  loss: 2.3219 (2.7776)  loss_classifier: 0.5431 (0.9241)  loss_box_reg: 0.6914 (0.7588)  loss_objectness: 0.8437 (0.8486)  loss_rpn_box_reg: 0.2429 (0.2462)  time: 1.5739  data: 0.3205  max mem: 10202\n",
            "Epoch: [0]  [110/572]  eta: 0:12:09  lr: 0.000976  loss: 2.2797 (2.7314)  loss_classifier: 0.5317 (0.8865)  loss_box_reg: 0.6508 (0.7479)  loss_objectness: 0.8437 (0.8509)  loss_rpn_box_reg: 0.2361 (0.2462)  time: 1.5751  data: 0.3219  max mem: 10202\n",
            "Epoch: [0]  [120/572]  eta: 0:11:53  lr: 0.001063  loss: 2.1355 (2.6753)  loss_classifier: 0.5055 (0.8542)  loss_box_reg: 0.6206 (0.7371)  loss_objectness: 0.7770 (0.8405)  loss_rpn_box_reg: 0.2212 (0.2436)  time: 1.5753  data: 0.3222  max mem: 10202\n",
            "Epoch: [0]  [130/572]  eta: 0:11:37  lr: 0.001151  loss: 2.0520 (2.6307)  loss_classifier: 0.4924 (0.8260)  loss_box_reg: 0.6065 (0.7254)  loss_objectness: 0.7634 (0.8360)  loss_rpn_box_reg: 0.2344 (0.2433)  time: 1.5718  data: 0.3196  max mem: 10202\n",
            "Epoch: [0]  [140/572]  eta: 0:11:21  lr: 0.001238  loss: 2.1323 (2.5981)  loss_classifier: 0.4854 (0.8023)  loss_box_reg: 0.5712 (0.7154)  loss_objectness: 0.8094 (0.8376)  loss_rpn_box_reg: 0.2407 (0.2427)  time: 1.5798  data: 0.3272  max mem: 10202\n",
            "Epoch: [0]  [150/572]  eta: 0:11:06  lr: 0.001326  loss: 2.1569 (2.5646)  loss_classifier: 0.4806 (0.7814)  loss_box_reg: 0.5720 (0.7066)  loss_objectness: 0.8172 (0.8347)  loss_rpn_box_reg: 0.2407 (0.2420)  time: 1.5830  data: 0.3302  max mem: 10202\n",
            "Epoch: [0]  [160/572]  eta: 0:10:50  lr: 0.001413  loss: 2.0206 (2.5367)  loss_classifier: 0.4716 (0.7619)  loss_box_reg: 0.5704 (0.6970)  loss_objectness: 0.7777 (0.8358)  loss_rpn_box_reg: 0.2363 (0.2420)  time: 1.5754  data: 0.3231  max mem: 10202\n",
            "Epoch: [0]  [170/572]  eta: 0:10:34  lr: 0.001501  loss: 2.2022 (2.5156)  loss_classifier: 0.4545 (0.7446)  loss_box_reg: 0.5371 (0.6882)  loss_objectness: 0.8629 (0.8409)  loss_rpn_box_reg: 0.2350 (0.2419)  time: 1.5755  data: 0.3224  max mem: 10202\n",
            "Epoch: [0]  [180/572]  eta: 0:10:18  lr: 0.001588  loss: 2.1039 (2.4919)  loss_classifier: 0.4545 (0.7283)  loss_box_reg: 0.5389 (0.6796)  loss_objectness: 0.8629 (0.8426)  loss_rpn_box_reg: 0.2320 (0.2414)  time: 1.5777  data: 0.3243  max mem: 10202\n",
            "Epoch: [0]  [190/572]  eta: 0:10:02  lr: 0.001676  loss: 2.1039 (2.4705)  loss_classifier: 0.4555 (0.7140)  loss_box_reg: 0.5412 (0.6718)  loss_objectness: 0.8611 (0.8434)  loss_rpn_box_reg: 0.2320 (0.2412)  time: 1.5761  data: 0.3237  max mem: 10202\n",
            "Epoch: [0]  [200/572]  eta: 0:09:46  lr: 0.001763  loss: 2.0570 (2.4478)  loss_classifier: 0.4461 (0.7008)  loss_box_reg: 0.5279 (0.6648)  loss_objectness: 0.7928 (0.8408)  loss_rpn_box_reg: 0.2375 (0.2414)  time: 1.5726  data: 0.3202  max mem: 10202\n",
            "Epoch: [0]  [210/572]  eta: 0:09:30  lr: 0.001851  loss: 1.8996 (2.4279)  loss_classifier: 0.4461 (0.6889)  loss_box_reg: 0.5279 (0.6590)  loss_objectness: 0.7110 (0.8389)  loss_rpn_box_reg: 0.2415 (0.2411)  time: 1.5665  data: 0.3139  max mem: 10202\n",
            "Epoch: [0]  [220/572]  eta: 0:09:15  lr: 0.001938  loss: 2.0698 (2.4118)  loss_classifier: 0.4324 (0.6767)  loss_box_reg: 0.5350 (0.6528)  loss_objectness: 0.8469 (0.8405)  loss_rpn_box_reg: 0.2415 (0.2418)  time: 1.5729  data: 0.3197  max mem: 10202\n",
            "Epoch: [0]  [230/572]  eta: 0:08:59  lr: 0.002026  loss: 2.0471 (2.3940)  loss_classifier: 0.4145 (0.6661)  loss_box_reg: 0.5245 (0.6474)  loss_objectness: 0.8411 (0.8389)  loss_rpn_box_reg: 0.2350 (0.2416)  time: 1.5779  data: 0.3245  max mem: 10202\n",
            "Epoch: [0]  [240/572]  eta: 0:08:43  lr: 0.002113  loss: 1.9887 (2.3782)  loss_classifier: 0.4221 (0.6562)  loss_box_reg: 0.5335 (0.6423)  loss_objectness: 0.8314 (0.8381)  loss_rpn_box_reg: 0.2350 (0.2415)  time: 1.5807  data: 0.3275  max mem: 10202\n",
            "Epoch: [0]  [250/572]  eta: 0:08:27  lr: 0.002201  loss: 2.0507 (2.3654)  loss_classifier: 0.4221 (0.6467)  loss_box_reg: 0.5335 (0.6374)  loss_objectness: 0.8371 (0.8390)  loss_rpn_box_reg: 0.2484 (0.2422)  time: 1.5829  data: 0.3297  max mem: 10202\n",
            "Epoch: [0]  [260/572]  eta: 0:08:12  lr: 0.002288  loss: 2.0507 (2.3563)  loss_classifier: 0.4130 (0.6374)  loss_box_reg: 0.5008 (0.6319)  loss_objectness: 0.9102 (0.8438)  loss_rpn_box_reg: 0.2447 (0.2432)  time: 1.5751  data: 0.3220  max mem: 10202\n",
            "Epoch: [0]  [270/572]  eta: 0:07:56  lr: 0.002376  loss: 2.0793 (2.3419)  loss_classifier: 0.4115 (0.6292)  loss_box_reg: 0.4845 (0.6271)  loss_objectness: 0.9102 (0.8429)  loss_rpn_box_reg: 0.2345 (0.2427)  time: 1.5697  data: 0.3174  max mem: 11202\n",
            "Epoch: [0]  [280/572]  eta: 0:07:40  lr: 0.002463  loss: 1.9030 (2.3288)  loss_classifier: 0.4058 (0.6210)  loss_box_reg: 0.4875 (0.6223)  loss_objectness: 0.8314 (0.8435)  loss_rpn_box_reg: 0.2274 (0.2421)  time: 1.5657  data: 0.3149  max mem: 11202\n",
            "Epoch: [0]  [290/572]  eta: 0:07:24  lr: 0.002551  loss: 1.9631 (2.3183)  loss_classifier: 0.4027 (0.6133)  loss_box_reg: 0.4900 (0.6184)  loss_objectness: 0.8358 (0.8442)  loss_rpn_box_reg: 0.2345 (0.2424)  time: 1.5699  data: 0.3184  max mem: 11202\n",
            "Epoch: [0]  [300/572]  eta: 0:07:08  lr: 0.002638  loss: 2.0159 (2.3098)  loss_classifier: 0.4112 (0.6067)  loss_box_reg: 0.5237 (0.6155)  loss_objectness: 0.8476 (0.8448)  loss_rpn_box_reg: 0.2520 (0.2428)  time: 1.5782  data: 0.3246  max mem: 11202\n",
            "Epoch: [0]  [310/572]  eta: 0:06:53  lr: 0.002726  loss: 1.9610 (2.2971)  loss_classifier: 0.4017 (0.5996)  loss_box_reg: 0.5062 (0.6120)  loss_objectness: 0.8476 (0.8430)  loss_rpn_box_reg: 0.2484 (0.2424)  time: 1.5787  data: 0.3245  max mem: 11202\n",
            "Epoch: [0]  [320/572]  eta: 0:06:37  lr: 0.002813  loss: 1.9234 (2.2868)  loss_classifier: 0.3961 (0.5935)  loss_box_reg: 0.5062 (0.6093)  loss_objectness: 0.8410 (0.8417)  loss_rpn_box_reg: 0.2400 (0.2423)  time: 1.5788  data: 0.3245  max mem: 11202\n",
            "Epoch: [0]  [330/572]  eta: 0:06:21  lr: 0.002901  loss: 2.0316 (2.2812)  loss_classifier: 0.3832 (0.5872)  loss_box_reg: 0.5177 (0.6058)  loss_objectness: 0.8956 (0.8453)  loss_rpn_box_reg: 0.2510 (0.2428)  time: 1.5837  data: 0.3300  max mem: 11202\n",
            "Epoch: [0]  [340/572]  eta: 0:06:05  lr: 0.002988  loss: 1.9438 (2.2692)  loss_classifier: 0.3761 (0.5810)  loss_box_reg: 0.4955 (0.6025)  loss_objectness: 0.8653 (0.8430)  loss_rpn_box_reg: 0.2521 (0.2426)  time: 1.5797  data: 0.3271  max mem: 11202\n",
            "Epoch: [0]  [350/572]  eta: 0:05:50  lr: 0.003075  loss: 1.8961 (2.2644)  loss_classifier: 0.3775 (0.5753)  loss_box_reg: 0.4945 (0.5994)  loss_objectness: 0.8303 (0.8466)  loss_rpn_box_reg: 0.2611 (0.2431)  time: 1.5707  data: 0.3193  max mem: 11202\n",
            "Epoch: [0]  [360/572]  eta: 0:05:34  lr: 0.003163  loss: 2.0101 (2.2552)  loss_classifier: 0.3880 (0.5701)  loss_box_reg: 0.4921 (0.5968)  loss_objectness: 0.8348 (0.8453)  loss_rpn_box_reg: 0.2441 (0.2430)  time: 1.5702  data: 0.3185  max mem: 11202\n",
            "Epoch: [0]  [370/572]  eta: 0:05:18  lr: 0.003250  loss: 2.0046 (2.2505)  loss_classifier: 0.3921 (0.5653)  loss_box_reg: 0.4960 (0.5941)  loss_objectness: 0.8348 (0.8479)  loss_rpn_box_reg: 0.2386 (0.2432)  time: 1.5737  data: 0.3214  max mem: 11202\n",
            "Epoch: [0]  [380/572]  eta: 0:05:02  lr: 0.003338  loss: 2.0556 (2.2437)  loss_classifier: 0.3915 (0.5606)  loss_box_reg: 0.5055 (0.5920)  loss_objectness: 0.8915 (0.8478)  loss_rpn_box_reg: 0.2407 (0.2432)  time: 1.5708  data: 0.3193  max mem: 11202\n",
            "Epoch: [0]  [390/572]  eta: 0:04:46  lr: 0.003425  loss: 1.9113 (2.2337)  loss_classifier: 0.3809 (0.5558)  loss_box_reg: 0.5082 (0.5898)  loss_objectness: 0.8078 (0.8449)  loss_rpn_box_reg: 0.2447 (0.2431)  time: 1.5685  data: 0.3171  max mem: 11202\n",
            "Epoch: [0]  [400/572]  eta: 0:04:31  lr: 0.003513  loss: 1.9284 (2.2271)  loss_classifier: 0.3809 (0.5518)  loss_box_reg: 0.4952 (0.5874)  loss_objectness: 0.7936 (0.8450)  loss_rpn_box_reg: 0.2286 (0.2428)  time: 1.5749  data: 0.3224  max mem: 11202\n",
            "Epoch: [0]  [410/572]  eta: 0:04:15  lr: 0.003600  loss: 1.9696 (2.2212)  loss_classifier: 0.3875 (0.5480)  loss_box_reg: 0.4945 (0.5858)  loss_objectness: 0.8522 (0.8445)  loss_rpn_box_reg: 0.2321 (0.2428)  time: 1.5711  data: 0.3187  max mem: 11202\n",
            "Epoch: [0]  [420/572]  eta: 0:03:59  lr: 0.003688  loss: 1.9340 (2.2133)  loss_classifier: 0.3904 (0.5440)  loss_box_reg: 0.4945 (0.5834)  loss_objectness: 0.8150 (0.8431)  loss_rpn_box_reg: 0.2385 (0.2428)  time: 1.5696  data: 0.3174  max mem: 11202\n",
            "Epoch: [0]  [430/572]  eta: 0:03:43  lr: 0.003775  loss: 1.9806 (2.2105)  loss_classifier: 0.3756 (0.5403)  loss_box_reg: 0.4878 (0.5814)  loss_objectness: 0.8651 (0.8456)  loss_rpn_box_reg: 0.2519 (0.2431)  time: 1.5780  data: 0.3246  max mem: 11202\n",
            "Epoch: [0]  [440/572]  eta: 0:03:28  lr: 0.003863  loss: 1.9926 (2.2057)  loss_classifier: 0.3755 (0.5367)  loss_box_reg: 0.4923 (0.5795)  loss_objectness: 0.9092 (0.8463)  loss_rpn_box_reg: 0.2537 (0.2432)  time: 1.5799  data: 0.3273  max mem: 11202\n",
            "Epoch: [0]  [450/572]  eta: 0:03:12  lr: 0.003950  loss: 1.9575 (2.1994)  loss_classifier: 0.3685 (0.5331)  loss_box_reg: 0.4891 (0.5776)  loss_objectness: 0.8773 (0.8456)  loss_rpn_box_reg: 0.2275 (0.2431)  time: 1.5700  data: 0.3193  max mem: 11202\n",
            "Epoch: [0]  [460/572]  eta: 0:02:56  lr: 0.004038  loss: 1.9366 (2.1938)  loss_classifier: 0.3685 (0.5296)  loss_box_reg: 0.4801 (0.5759)  loss_objectness: 0.7860 (0.8452)  loss_rpn_box_reg: 0.2349 (0.2432)  time: 1.5686  data: 0.3168  max mem: 11202\n",
            "Epoch: [0]  [470/572]  eta: 0:02:40  lr: 0.004125  loss: 1.9799 (2.1906)  loss_classifier: 0.3801 (0.5264)  loss_box_reg: 0.5035 (0.5746)  loss_objectness: 0.8134 (0.8458)  loss_rpn_box_reg: 0.2503 (0.2438)  time: 1.5802  data: 0.3259  max mem: 11202\n",
            "Epoch: [0]  [480/572]  eta: 0:02:24  lr: 0.004213  loss: 2.0160 (2.1864)  loss_classifier: 0.3792 (0.5233)  loss_box_reg: 0.5085 (0.5730)  loss_objectness: 0.8134 (0.8464)  loss_rpn_box_reg: 0.2499 (0.2437)  time: 1.5815  data: 0.3269  max mem: 11202\n",
            "Epoch: [0]  [490/572]  eta: 0:02:09  lr: 0.004300  loss: 1.9431 (2.1816)  loss_classifier: 0.3711 (0.5203)  loss_box_reg: 0.4919 (0.5713)  loss_objectness: 0.7979 (0.8463)  loss_rpn_box_reg: 0.2375 (0.2437)  time: 1.5740  data: 0.3207  max mem: 11202\n",
            "Epoch: [0]  [500/572]  eta: 0:01:53  lr: 0.004388  loss: 1.9698 (2.1792)  loss_classifier: 0.3711 (0.5174)  loss_box_reg: 0.4913 (0.5695)  loss_objectness: 0.8549 (0.8481)  loss_rpn_box_reg: 0.2626 (0.2441)  time: 1.5749  data: 0.3221  max mem: 11202\n",
            "Epoch: [0]  [510/572]  eta: 0:01:37  lr: 0.004475  loss: 1.9904 (2.1751)  loss_classifier: 0.3607 (0.5144)  loss_box_reg: 0.4716 (0.5677)  loss_objectness: 0.8604 (0.8485)  loss_rpn_box_reg: 0.2626 (0.2445)  time: 1.5767  data: 0.3235  max mem: 11202\n",
            "Epoch: [0]  [520/572]  eta: 0:01:21  lr: 0.004563  loss: 2.0064 (2.1722)  loss_classifier: 0.3607 (0.5118)  loss_box_reg: 0.4880 (0.5663)  loss_objectness: 0.8738 (0.8494)  loss_rpn_box_reg: 0.2589 (0.2448)  time: 1.5811  data: 0.3267  max mem: 11202\n",
            "Epoch: [0]  [530/572]  eta: 0:01:06  lr: 0.004650  loss: 2.0064 (2.1689)  loss_classifier: 0.3750 (0.5092)  loss_box_reg: 0.4957 (0.5650)  loss_objectness: 0.8738 (0.8499)  loss_rpn_box_reg: 0.2437 (0.2448)  time: 1.5855  data: 0.3302  max mem: 11202\n",
            "Epoch: [0]  [540/572]  eta: 0:00:50  lr: 0.004738  loss: 1.8711 (2.1637)  loss_classifier: 0.3614 (0.5064)  loss_box_reg: 0.4911 (0.5636)  loss_objectness: 0.8139 (0.8491)  loss_rpn_box_reg: 0.2346 (0.2446)  time: 1.5775  data: 0.3238  max mem: 11202\n",
            "Epoch: [0]  [550/572]  eta: 0:00:34  lr: 0.004825  loss: 1.8692 (2.1594)  loss_classifier: 0.3524 (0.5037)  loss_box_reg: 0.4831 (0.5620)  loss_objectness: 0.8201 (0.8494)  loss_rpn_box_reg: 0.2279 (0.2444)  time: 1.5665  data: 0.3157  max mem: 11202\n",
            "Epoch: [0]  [560/572]  eta: 0:00:18  lr: 0.004913  loss: 1.8753 (2.1558)  loss_classifier: 0.3675 (0.5014)  loss_box_reg: 0.4858 (0.5607)  loss_objectness: 0.8185 (0.8492)  loss_rpn_box_reg: 0.2377 (0.2445)  time: 1.5711  data: 0.3194  max mem: 11202\n",
            "Epoch: [0]  [570/572]  eta: 0:00:03  lr: 0.005000  loss: 1.8753 (2.1506)  loss_classifier: 0.3675 (0.4989)  loss_box_reg: 0.4900 (0.5593)  loss_objectness: 0.7667 (0.8479)  loss_rpn_box_reg: 0.2537 (0.2445)  time: 1.5786  data: 0.3255  max mem: 11202\n",
            "Epoch: [0]  [571/572]  eta: 0:00:01  lr: 0.005000  loss: 1.8753 (2.1499)  loss_classifier: 0.3670 (0.4986)  loss_box_reg: 0.4900 (0.5592)  loss_objectness: 0.7667 (0.8477)  loss_rpn_box_reg: 0.2537 (0.2444)  time: 1.5328  data: 0.3161  max mem: 11202\n",
            "Epoch: [0] Total time: 0:15:00 (1.5745 s / it)\n",
            "creating index...\n",
            "index created!\n",
            "Test:  [  0/143]  eta: 0:04:08  model_time: 1.2259 (1.2259)  evaluator_time: 0.2847 (0.2847)  time: 1.7393  data: 0.2259  max mem: 11202\n",
            "Test:  [100/143]  eta: 0:01:16  model_time: 1.2098 (1.2097)  evaluator_time: 0.3306 (0.3219)  time: 1.7952  data: 0.2473  max mem: 11202\n",
            "Test:  [142/143]  eta: 0:00:01  model_time: 1.2092 (1.2082)  evaluator_time: 0.3303 (0.3220)  time: 1.7793  data: 0.2474  max mem: 11202\n",
            "Test: Total time: 0:04:13 (1.7735 s / it)\n",
            "Averaged stats: model_time: 1.2092 (1.2082)  evaluator_time: 0.3303 (0.3220)\n",
            "Accumulating evaluation results...\n",
            "DONE (t=3.21s).\n",
            "IoU metric: bbox\n",
            " Average Precision  (AP) @[ IoU=0.50:0.95 | area=   all | maxDets=100 ] = 0.069\n",
            " Average Precision  (AP) @[ IoU=0.50      | area=   all | maxDets=100 ] = 0.151\n",
            " Average Precision  (AP) @[ IoU=0.75      | area=   all | maxDets=100 ] = 0.054\n",
            " Average Precision  (AP) @[ IoU=0.50:0.95 | area= small | maxDets=100 ] = 0.064\n",
            " Average Precision  (AP) @[ IoU=0.50:0.95 | area=medium | maxDets=100 ] = 0.173\n",
            " Average Precision  (AP) @[ IoU=0.50:0.95 | area= large | maxDets=100 ] = 0.353\n",
            " Average Recall     (AR) @[ IoU=0.50:0.95 | area=   all | maxDets=  1 ] = 0.057\n",
            " Average Recall     (AR) @[ IoU=0.50:0.95 | area=   all | maxDets= 10 ] = 0.126\n",
            " Average Recall     (AR) @[ IoU=0.50:0.95 | area=   all | maxDets=100 ] = 0.142\n",
            " Average Recall     (AR) @[ IoU=0.50:0.95 | area= small | maxDets=100 ] = 0.141\n",
            " Average Recall     (AR) @[ IoU=0.50:0.95 | area=medium | maxDets=100 ] = 0.284\n",
            " Average Recall     (AR) @[ IoU=0.50:0.95 | area= large | maxDets=100 ] = 0.546\n",
            "Epoch: [1]  [  0/572]  eta: 0:15:23  lr: 0.005000  loss: 1.8505 (1.8505)  loss_classifier: 0.3365 (0.3365)  loss_box_reg: 0.5056 (0.5056)  loss_objectness: 0.7894 (0.7894)  loss_rpn_box_reg: 0.2190 (0.2190)  time: 1.6154  data: 0.3427  max mem: 11202\n",
            "Epoch: [1]  [ 10/572]  eta: 0:14:58  lr: 0.005000  loss: 2.0047 (2.0361)  loss_classifier: 0.3714 (0.3675)  loss_box_reg: 0.4913 (0.4950)  loss_objectness: 0.8505 (0.9207)  loss_rpn_box_reg: 0.2546 (0.2529)  time: 1.5994  data: 0.3423  max mem: 11202\n",
            "Epoch: [1]  [ 20/572]  eta: 0:14:38  lr: 0.005000  loss: 2.0047 (2.0361)  loss_classifier: 0.3714 (0.3683)  loss_box_reg: 0.4832 (0.4945)  loss_objectness: 0.8505 (0.9196)  loss_rpn_box_reg: 0.2579 (0.2538)  time: 1.5907  data: 0.3365  max mem: 11202\n",
            "Epoch: [1]  [ 30/572]  eta: 0:14:20  lr: 0.005000  loss: 1.9830 (2.0150)  loss_classifier: 0.3654 (0.3699)  loss_box_reg: 0.4832 (0.4930)  loss_objectness: 0.8523 (0.9032)  loss_rpn_box_reg: 0.2508 (0.2490)  time: 1.5823  data: 0.3297  max mem: 11202\n",
            "Epoch: [1]  [ 40/572]  eta: 0:14:06  lr: 0.005000  loss: 1.8739 (1.9955)  loss_classifier: 0.3886 (0.3736)  loss_box_reg: 0.4954 (0.4984)  loss_objectness: 0.7681 (0.8749)  loss_rpn_box_reg: 0.2372 (0.2485)  time: 1.5903  data: 0.3365  max mem: 11202\n",
            "Epoch: [1]  [ 50/572]  eta: 0:13:49  lr: 0.005000  loss: 1.8339 (1.9769)  loss_classifier: 0.3713 (0.3703)  loss_box_reg: 0.4913 (0.4941)  loss_objectness: 0.7642 (0.8653)  loss_rpn_box_reg: 0.2315 (0.2472)  time: 1.5906  data: 0.3366  max mem: 11202\n",
            "Epoch: [1]  [ 60/572]  eta: 0:13:32  lr: 0.005000  loss: 1.8339 (1.9738)  loss_classifier: 0.3614 (0.3692)  loss_box_reg: 0.4813 (0.4904)  loss_objectness: 0.7642 (0.8653)  loss_rpn_box_reg: 0.2474 (0.2489)  time: 1.5809  data: 0.3283  max mem: 11202\n",
            "Epoch: [1]  [ 70/572]  eta: 0:13:16  lr: 0.005000  loss: 1.8179 (1.9571)  loss_classifier: 0.3564 (0.3668)  loss_box_reg: 0.4805 (0.4886)  loss_objectness: 0.7871 (0.8536)  loss_rpn_box_reg: 0.2491 (0.2481)  time: 1.5822  data: 0.3295  max mem: 11202\n",
            "Epoch: [1]  [ 80/572]  eta: 0:13:00  lr: 0.005000  loss: 1.9059 (1.9561)  loss_classifier: 0.3601 (0.3663)  loss_box_reg: 0.4719 (0.4880)  loss_objectness: 0.9066 (0.8530)  loss_rpn_box_reg: 0.2451 (0.2489)  time: 1.5822  data: 0.3292  max mem: 11202\n",
            "Epoch: [1]  [ 90/572]  eta: 0:12:44  lr: 0.005000  loss: 1.9403 (1.9563)  loss_classifier: 0.3484 (0.3627)  loss_box_reg: 0.4608 (0.4839)  loss_objectness: 0.8927 (0.8607)  loss_rpn_box_reg: 0.2451 (0.2490)  time: 1.5785  data: 0.3269  max mem: 11202\n",
            "Epoch: [1]  [100/572]  eta: 0:12:28  lr: 0.005000  loss: 1.8712 (1.9433)  loss_classifier: 0.3417 (0.3613)  loss_box_reg: 0.4473 (0.4822)  loss_objectness: 0.8427 (0.8530)  loss_rpn_box_reg: 0.2266 (0.2468)  time: 1.5794  data: 0.3283  max mem: 11202\n",
            "Epoch: [1]  [110/572]  eta: 0:12:12  lr: 0.005000  loss: 1.8794 (1.9447)  loss_classifier: 0.3638 (0.3619)  loss_box_reg: 0.4850 (0.4834)  loss_objectness: 0.7553 (0.8525)  loss_rpn_box_reg: 0.2328 (0.2469)  time: 1.5840  data: 0.3310  max mem: 11202\n",
            "Epoch: [1]  [120/572]  eta: 0:11:56  lr: 0.005000  loss: 1.8757 (1.9396)  loss_classifier: 0.3762 (0.3628)  loss_box_reg: 0.4989 (0.4842)  loss_objectness: 0.7623 (0.8455)  loss_rpn_box_reg: 0.2443 (0.2471)  time: 1.5895  data: 0.3354  max mem: 11202\n",
            "Epoch: [1]  [130/572]  eta: 0:11:40  lr: 0.005000  loss: 1.8536 (1.9341)  loss_classifier: 0.3549 (0.3620)  loss_box_reg: 0.4694 (0.4813)  loss_objectness: 0.7706 (0.8440)  loss_rpn_box_reg: 0.2417 (0.2468)  time: 1.5850  data: 0.3321  max mem: 11202\n",
            "Epoch: [1]  [140/572]  eta: 0:11:24  lr: 0.005000  loss: 1.8505 (1.9289)  loss_classifier: 0.3492 (0.3617)  loss_box_reg: 0.4685 (0.4813)  loss_objectness: 0.8143 (0.8398)  loss_rpn_box_reg: 0.2395 (0.2461)  time: 1.5819  data: 0.3290  max mem: 11202\n",
            "Epoch: [1]  [150/572]  eta: 0:11:09  lr: 0.005000  loss: 1.7912 (1.9266)  loss_classifier: 0.3472 (0.3610)  loss_box_reg: 0.4790 (0.4807)  loss_objectness: 0.7380 (0.8390)  loss_rpn_box_reg: 0.2337 (0.2459)  time: 1.5898  data: 0.3368  max mem: 11202\n",
            "Epoch: [1]  [160/572]  eta: 0:10:53  lr: 0.005000  loss: 1.8508 (1.9312)  loss_classifier: 0.3519 (0.3611)  loss_box_reg: 0.4770 (0.4809)  loss_objectness: 0.7926 (0.8443)  loss_rpn_box_reg: 0.2341 (0.2450)  time: 1.5891  data: 0.3363  max mem: 11202\n",
            "Epoch: [1]  [170/572]  eta: 0:10:37  lr: 0.005000  loss: 1.8390 (1.9251)  loss_classifier: 0.3611 (0.3611)  loss_box_reg: 0.4770 (0.4812)  loss_objectness: 0.7926 (0.8390)  loss_rpn_box_reg: 0.2341 (0.2439)  time: 1.5838  data: 0.3307  max mem: 11202\n",
            "Epoch: [1]  [180/572]  eta: 0:10:21  lr: 0.005000  loss: 1.8419 (1.9249)  loss_classifier: 0.3681 (0.3617)  loss_box_reg: 0.4628 (0.4810)  loss_objectness: 0.7776 (0.8392)  loss_rpn_box_reg: 0.2342 (0.2430)  time: 1.5785  data: 0.3270  max mem: 11202\n",
            "Epoch: [1]  [190/572]  eta: 0:10:05  lr: 0.005000  loss: 1.9316 (1.9251)  loss_classifier: 0.3622 (0.3613)  loss_box_reg: 0.4628 (0.4806)  loss_objectness: 0.8187 (0.8400)  loss_rpn_box_reg: 0.2431 (0.2432)  time: 1.5821  data: 0.3306  max mem: 11202\n",
            "Epoch: [1]  [200/572]  eta: 0:09:49  lr: 0.005000  loss: 1.8636 (1.9214)  loss_classifier: 0.3743 (0.3622)  loss_box_reg: 0.4882 (0.4814)  loss_objectness: 0.7531 (0.8353)  loss_rpn_box_reg: 0.2285 (0.2424)  time: 1.5832  data: 0.3304  max mem: 11202\n",
            "Epoch: [1]  [210/572]  eta: 0:09:33  lr: 0.005000  loss: 1.8574 (1.9242)  loss_classifier: 0.3535 (0.3607)  loss_box_reg: 0.4693 (0.4799)  loss_objectness: 0.7720 (0.8404)  loss_rpn_box_reg: 0.2296 (0.2432)  time: 1.5806  data: 0.3280  max mem: 11202\n",
            "Epoch: [1]  [220/572]  eta: 0:09:17  lr: 0.005000  loss: 1.9006 (1.9254)  loss_classifier: 0.3375 (0.3597)  loss_box_reg: 0.4478 (0.4790)  loss_objectness: 0.8204 (0.8431)  loss_rpn_box_reg: 0.2505 (0.2436)  time: 1.5792  data: 0.3269  max mem: 11202\n",
            "Epoch: [1]  [230/572]  eta: 0:09:01  lr: 0.005000  loss: 1.8810 (1.9261)  loss_classifier: 0.3430 (0.3600)  loss_box_reg: 0.4630 (0.4794)  loss_objectness: 0.8204 (0.8432)  loss_rpn_box_reg: 0.2455 (0.2435)  time: 1.5807  data: 0.3276  max mem: 11202\n",
            "Epoch: [1]  [240/572]  eta: 0:08:46  lr: 0.005000  loss: 1.9133 (1.9249)  loss_classifier: 0.3628 (0.3599)  loss_box_reg: 0.4647 (0.4789)  loss_objectness: 0.8042 (0.8427)  loss_rpn_box_reg: 0.2467 (0.2434)  time: 1.5903  data: 0.3361  max mem: 11202\n",
            "Epoch: [1]  [250/572]  eta: 0:08:30  lr: 0.005000  loss: 1.8456 (1.9211)  loss_classifier: 0.3486 (0.3593)  loss_box_reg: 0.4589 (0.4777)  loss_objectness: 0.8042 (0.8416)  loss_rpn_box_reg: 0.2228 (0.2425)  time: 1.5903  data: 0.3365  max mem: 11202\n",
            "Epoch: [1]  [260/572]  eta: 0:08:14  lr: 0.005000  loss: 1.8956 (1.9207)  loss_classifier: 0.3512 (0.3592)  loss_box_reg: 0.4598 (0.4778)  loss_objectness: 0.7939 (0.8411)  loss_rpn_box_reg: 0.2341 (0.2426)  time: 1.5850  data: 0.3320  max mem: 11202\n",
            "Epoch: [1]  [270/572]  eta: 0:07:58  lr: 0.005000  loss: 1.9437 (1.9240)  loss_classifier: 0.3542 (0.3591)  loss_box_reg: 0.4835 (0.4782)  loss_objectness: 0.8069 (0.8432)  loss_rpn_box_reg: 0.2584 (0.2434)  time: 1.5857  data: 0.3322  max mem: 11202\n",
            "Epoch: [1]  [280/572]  eta: 0:07:42  lr: 0.005000  loss: 1.8450 (1.9192)  loss_classifier: 0.3471 (0.3587)  loss_box_reg: 0.4778 (0.4780)  loss_objectness: 0.7548 (0.8391)  loss_rpn_box_reg: 0.2524 (0.2434)  time: 1.5848  data: 0.3313  max mem: 11202\n",
            "Epoch: [1]  [290/572]  eta: 0:07:26  lr: 0.005000  loss: 1.7847 (1.9182)  loss_classifier: 0.3382 (0.3581)  loss_box_reg: 0.4728 (0.4777)  loss_objectness: 0.7548 (0.8395)  loss_rpn_box_reg: 0.2305 (0.2430)  time: 1.5835  data: 0.3306  max mem: 11202\n",
            "Epoch: [1]  [300/572]  eta: 0:07:10  lr: 0.005000  loss: 1.8560 (1.9172)  loss_classifier: 0.3382 (0.3574)  loss_box_reg: 0.4633 (0.4766)  loss_objectness: 0.8143 (0.8403)  loss_rpn_box_reg: 0.2318 (0.2429)  time: 1.5779  data: 0.3260  max mem: 11202\n",
            "Epoch: [1]  [310/572]  eta: 0:06:55  lr: 0.005000  loss: 1.8601 (1.9182)  loss_classifier: 0.3403 (0.3572)  loss_box_reg: 0.4593 (0.4762)  loss_objectness: 0.8252 (0.8420)  loss_rpn_box_reg: 0.2362 (0.2428)  time: 1.5808  data: 0.3284  max mem: 11202\n",
            "Epoch: [1]  [320/572]  eta: 0:06:39  lr: 0.005000  loss: 1.9576 (1.9192)  loss_classifier: 0.3596 (0.3572)  loss_box_reg: 0.4719 (0.4767)  loss_objectness: 0.8721 (0.8424)  loss_rpn_box_reg: 0.2400 (0.2429)  time: 1.5854  data: 0.3324  max mem: 11202\n",
            "Epoch: [1]  [330/572]  eta: 0:06:23  lr: 0.005000  loss: 1.9815 (1.9203)  loss_classifier: 0.3577 (0.3571)  loss_box_reg: 0.4726 (0.4766)  loss_objectness: 0.8945 (0.8435)  loss_rpn_box_reg: 0.2485 (0.2431)  time: 1.5826  data: 0.3300  max mem: 11202\n",
            "Epoch: [1]  [340/572]  eta: 0:06:07  lr: 0.005000  loss: 1.9815 (1.9241)  loss_classifier: 0.3577 (0.3572)  loss_box_reg: 0.4626 (0.4768)  loss_objectness: 0.8945 (0.8470)  loss_rpn_box_reg: 0.2501 (0.2431)  time: 1.5866  data: 0.3329  max mem: 11202\n",
            "Epoch: [1]  [350/572]  eta: 0:05:51  lr: 0.005000  loss: 1.9947 (1.9241)  loss_classifier: 0.3471 (0.3569)  loss_box_reg: 0.4804 (0.4771)  loss_objectness: 0.8568 (0.8467)  loss_rpn_box_reg: 0.2501 (0.2434)  time: 1.5874  data: 0.3328  max mem: 11202\n",
            "Epoch: [1]  [360/572]  eta: 0:05:35  lr: 0.005000  loss: 1.8693 (1.9228)  loss_classifier: 0.3454 (0.3569)  loss_box_reg: 0.4840 (0.4777)  loss_objectness: 0.8121 (0.8447)  loss_rpn_box_reg: 0.2484 (0.2435)  time: 1.5858  data: 0.3318  max mem: 11202\n",
            "Epoch: [1]  [370/572]  eta: 0:05:20  lr: 0.005000  loss: 1.8693 (1.9221)  loss_classifier: 0.3503 (0.3568)  loss_box_reg: 0.4791 (0.4775)  loss_objectness: 0.8053 (0.8441)  loss_rpn_box_reg: 0.2484 (0.2438)  time: 1.5826  data: 0.3290  max mem: 11202\n",
            "Epoch: [1]  [380/572]  eta: 0:05:04  lr: 0.005000  loss: 1.8471 (1.9197)  loss_classifier: 0.3471 (0.3565)  loss_box_reg: 0.4695 (0.4776)  loss_objectness: 0.7516 (0.8419)  loss_rpn_box_reg: 0.2540 (0.2438)  time: 1.5828  data: 0.3295  max mem: 11202\n",
            "Epoch: [1]  [390/572]  eta: 0:04:48  lr: 0.005000  loss: 1.8482 (1.9217)  loss_classifier: 0.3416 (0.3565)  loss_box_reg: 0.4581 (0.4772)  loss_objectness: 0.7697 (0.8441)  loss_rpn_box_reg: 0.2425 (0.2439)  time: 1.5828  data: 0.3298  max mem: 11202\n",
            "Epoch: [1]  [400/572]  eta: 0:04:32  lr: 0.005000  loss: 1.9759 (1.9231)  loss_classifier: 0.3377 (0.3560)  loss_box_reg: 0.4577 (0.4767)  loss_objectness: 0.9028 (0.8463)  loss_rpn_box_reg: 0.2479 (0.2440)  time: 1.5819  data: 0.3287  max mem: 11202\n",
            "Epoch: [1]  [410/572]  eta: 0:04:16  lr: 0.005000  loss: 1.9832 (1.9239)  loss_classifier: 0.3415 (0.3560)  loss_box_reg: 0.4621 (0.4767)  loss_objectness: 0.9028 (0.8474)  loss_rpn_box_reg: 0.2479 (0.2438)  time: 1.5805  data: 0.3280  max mem: 11202\n",
            "Epoch: [1]  [420/572]  eta: 0:04:00  lr: 0.005000  loss: 1.9095 (1.9232)  loss_classifier: 0.3551 (0.3559)  loss_box_reg: 0.4749 (0.4768)  loss_objectness: 0.8371 (0.8468)  loss_rpn_box_reg: 0.2393 (0.2438)  time: 1.5813  data: 0.3283  max mem: 11202\n",
            "Epoch: [1]  [430/572]  eta: 0:03:44  lr: 0.005000  loss: 1.9515 (1.9272)  loss_classifier: 0.3544 (0.3559)  loss_box_reg: 0.4650 (0.4764)  loss_objectness: 0.9035 (0.8503)  loss_rpn_box_reg: 0.2480 (0.2445)  time: 1.5846  data: 0.3303  max mem: 11202\n",
            "Epoch: [1]  [440/572]  eta: 0:03:29  lr: 0.005000  loss: 2.0457 (1.9284)  loss_classifier: 0.3544 (0.3559)  loss_box_reg: 0.4478 (0.4763)  loss_objectness: 0.9463 (0.8516)  loss_rpn_box_reg: 0.2516 (0.2446)  time: 1.5858  data: 0.3314  max mem: 11202\n",
            "Epoch: [1]  [450/572]  eta: 0:03:13  lr: 0.005000  loss: 1.8853 (1.9281)  loss_classifier: 0.3546 (0.3558)  loss_box_reg: 0.4601 (0.4760)  loss_objectness: 0.8356 (0.8516)  loss_rpn_box_reg: 0.2504 (0.2447)  time: 1.5817  data: 0.3286  max mem: 11202\n",
            "Epoch: [1]  [460/572]  eta: 0:02:57  lr: 0.005000  loss: 1.8715 (1.9276)  loss_classifier: 0.3491 (0.3557)  loss_box_reg: 0.4605 (0.4759)  loss_objectness: 0.8012 (0.8512)  loss_rpn_box_reg: 0.2538 (0.2448)  time: 1.5820  data: 0.3293  max mem: 11202\n",
            "Epoch: [1]  [470/572]  eta: 0:02:41  lr: 0.005000  loss: 1.9649 (1.9293)  loss_classifier: 0.3440 (0.3556)  loss_box_reg: 0.4706 (0.4758)  loss_objectness: 0.8937 (0.8529)  loss_rpn_box_reg: 0.2448 (0.2449)  time: 1.5918  data: 0.3378  max mem: 11202\n",
            "Epoch: [1]  [480/572]  eta: 0:02:25  lr: 0.005000  loss: 1.9438 (1.9274)  loss_classifier: 0.3429 (0.3555)  loss_box_reg: 0.4589 (0.4755)  loss_objectness: 0.8768 (0.8518)  loss_rpn_box_reg: 0.2391 (0.2446)  time: 1.5817  data: 0.3288  max mem: 11202\n",
            "Epoch: [1]  [490/572]  eta: 0:02:09  lr: 0.005000  loss: 1.9086 (1.9276)  loss_classifier: 0.3493 (0.3554)  loss_box_reg: 0.4734 (0.4759)  loss_objectness: 0.7825 (0.8516)  loss_rpn_box_reg: 0.2437 (0.2447)  time: 1.5751  data: 0.3219  max mem: 11202\n",
            "Epoch: [1]  [500/572]  eta: 0:01:54  lr: 0.005000  loss: 1.9000 (1.9268)  loss_classifier: 0.3493 (0.3553)  loss_box_reg: 0.4774 (0.4754)  loss_objectness: 0.7834 (0.8513)  loss_rpn_box_reg: 0.2447 (0.2448)  time: 1.5829  data: 0.3289  max mem: 11202\n",
            "Epoch: [1]  [510/572]  eta: 0:01:38  lr: 0.005000  loss: 1.8480 (1.9268)  loss_classifier: 0.3569 (0.3553)  loss_box_reg: 0.4654 (0.4752)  loss_objectness: 0.7834 (0.8517)  loss_rpn_box_reg: 0.2348 (0.2445)  time: 1.5848  data: 0.3312  max mem: 11202\n",
            "Epoch: [1]  [520/572]  eta: 0:01:22  lr: 0.005000  loss: 1.8341 (1.9241)  loss_classifier: 0.3492 (0.3553)  loss_box_reg: 0.4657 (0.4752)  loss_objectness: 0.7713 (0.8491)  loss_rpn_box_reg: 0.2348 (0.2445)  time: 1.5833  data: 0.3300  max mem: 11202\n",
            "Epoch: [1]  [530/572]  eta: 0:01:06  lr: 0.005000  loss: 1.8341 (1.9221)  loss_classifier: 0.3431 (0.3551)  loss_box_reg: 0.4639 (0.4753)  loss_objectness: 0.7925 (0.8474)  loss_rpn_box_reg: 0.2355 (0.2443)  time: 1.5790  data: 0.3266  max mem: 11202\n",
            "Epoch: [1]  [540/572]  eta: 0:00:50  lr: 0.005000  loss: 1.9303 (1.9233)  loss_classifier: 0.3533 (0.3551)  loss_box_reg: 0.4770 (0.4755)  loss_objectness: 0.8341 (0.8477)  loss_rpn_box_reg: 0.2557 (0.2449)  time: 1.5826  data: 0.3296  max mem: 11202\n",
            "Epoch: [1]  [550/572]  eta: 0:00:34  lr: 0.005000  loss: 1.9604 (1.9236)  loss_classifier: 0.3537 (0.3551)  loss_box_reg: 0.4710 (0.4752)  loss_objectness: 0.8335 (0.8484)  loss_rpn_box_reg: 0.2607 (0.2448)  time: 1.5856  data: 0.3321  max mem: 11202\n",
            "Epoch: [1]  [560/572]  eta: 0:00:19  lr: 0.005000  loss: 1.7932 (1.9217)  loss_classifier: 0.3443 (0.3549)  loss_box_reg: 0.4581 (0.4750)  loss_objectness: 0.7702 (0.8468)  loss_rpn_box_reg: 0.2484 (0.2450)  time: 1.5834  data: 0.3300  max mem: 11202\n",
            "Epoch: [1]  [570/572]  eta: 0:00:03  lr: 0.005000  loss: 1.7932 (1.9210)  loss_classifier: 0.3435 (0.3546)  loss_box_reg: 0.4631 (0.4747)  loss_objectness: 0.7355 (0.8470)  loss_rpn_box_reg: 0.2410 (0.2447)  time: 1.5764  data: 0.3235  max mem: 11202\n",
            "Epoch: [1]  [571/572]  eta: 0:00:01  lr: 0.005000  loss: 1.7932 (1.9219)  loss_classifier: 0.3435 (0.3547)  loss_box_reg: 0.4631 (0.4747)  loss_objectness: 0.7355 (0.8478)  loss_rpn_box_reg: 0.2410 (0.2447)  time: 1.5311  data: 0.3146  max mem: 11202\n",
            "Epoch: [1] Total time: 0:15:05 (1.5822 s / it)\n",
            "creating index...\n",
            "index created!\n",
            "Test:  [  0/143]  eta: 0:04:07  model_time: 1.2249 (1.2249)  evaluator_time: 0.2733 (0.2733)  time: 1.7296  data: 0.2286  max mem: 11202\n",
            "Test:  [100/143]  eta: 0:01:16  model_time: 1.2095 (1.2101)  evaluator_time: 0.3183 (0.3198)  time: 1.7880  data: 0.2428  max mem: 11202\n",
            "Test:  [142/143]  eta: 0:00:01  model_time: 1.2097 (1.2085)  evaluator_time: 0.3270 (0.3199)  time: 1.7692  data: 0.2410  max mem: 11202\n",
            "Test: Total time: 0:04:13 (1.7746 s / it)\n",
            "Averaged stats: model_time: 1.2097 (1.2085)  evaluator_time: 0.3270 (0.3199)\n",
            "Accumulating evaluation results...\n",
            "DONE (t=3.11s).\n",
            "IoU metric: bbox\n",
            " Average Precision  (AP) @[ IoU=0.50:0.95 | area=   all | maxDets=100 ] = 0.087\n",
            " Average Precision  (AP) @[ IoU=0.50      | area=   all | maxDets=100 ] = 0.184\n",
            " Average Precision  (AP) @[ IoU=0.75      | area=   all | maxDets=100 ] = 0.074\n",
            " Average Precision  (AP) @[ IoU=0.50:0.95 | area= small | maxDets=100 ] = 0.079\n",
            " Average Precision  (AP) @[ IoU=0.50:0.95 | area=medium | maxDets=100 ] = 0.263\n",
            " Average Precision  (AP) @[ IoU=0.50:0.95 | area= large | maxDets=100 ] = 0.411\n",
            " Average Recall     (AR) @[ IoU=0.50:0.95 | area=   all | maxDets=  1 ] = 0.076\n",
            " Average Recall     (AR) @[ IoU=0.50:0.95 | area=   all | maxDets= 10 ] = 0.157\n",
            " Average Recall     (AR) @[ IoU=0.50:0.95 | area=   all | maxDets=100 ] = 0.173\n",
            " Average Recall     (AR) @[ IoU=0.50:0.95 | area= small | maxDets=100 ] = 0.170\n",
            " Average Recall     (AR) @[ IoU=0.50:0.95 | area=medium | maxDets=100 ] = 0.391\n",
            " Average Recall     (AR) @[ IoU=0.50:0.95 | area= large | maxDets=100 ] = 0.601\n",
            "Epoch: [2]  [  0/572]  eta: 0:15:18  lr: 0.005000  loss: 1.7982 (1.7982)  loss_classifier: 0.3750 (0.3750)  loss_box_reg: 0.5138 (0.5138)  loss_objectness: 0.6532 (0.6532)  loss_rpn_box_reg: 0.2561 (0.2561)  time: 1.6058  data: 0.3332  max mem: 11202\n"
          ]
        },
        {
          "output_type": "error",
          "ename": "KeyboardInterrupt",
          "evalue": "ignored",
          "traceback": [
            "\u001b[0;31m---------------------------------------------------------------------------\u001b[0m",
            "\u001b[0;31mKeyboardInterrupt\u001b[0m                         Traceback (most recent call last)",
            "\u001b[0;32m<ipython-input-71-cea436c68236>\u001b[0m in \u001b[0;36m<module>\u001b[0;34m()\u001b[0m\n\u001b[1;32m      4\u001b[0m \u001b[0;32mfor\u001b[0m \u001b[0mepoch\u001b[0m \u001b[0;32min\u001b[0m \u001b[0mrange\u001b[0m\u001b[0;34m(\u001b[0m\u001b[0mnum_epochs\u001b[0m\u001b[0;34m)\u001b[0m\u001b[0;34m:\u001b[0m\u001b[0;34m\u001b[0m\u001b[0;34m\u001b[0m\u001b[0m\n\u001b[1;32m      5\u001b[0m     \u001b[0;31m# training for one epoch\u001b[0m\u001b[0;34m\u001b[0m\u001b[0;34m\u001b[0m\u001b[0;34m\u001b[0m\u001b[0m\n\u001b[0;32m----> 6\u001b[0;31m     \u001b[0mtrain_one_epoch\u001b[0m\u001b[0;34m(\u001b[0m\u001b[0mmodel\u001b[0m\u001b[0;34m,\u001b[0m \u001b[0moptimizer\u001b[0m\u001b[0;34m,\u001b[0m \u001b[0mdata_loader\u001b[0m\u001b[0;34m,\u001b[0m \u001b[0mdevice\u001b[0m\u001b[0;34m,\u001b[0m \u001b[0mepoch\u001b[0m\u001b[0;34m,\u001b[0m \u001b[0mprint_freq\u001b[0m\u001b[0;34m=\u001b[0m\u001b[0;36m10\u001b[0m\u001b[0;34m)\u001b[0m\u001b[0;34m\u001b[0m\u001b[0;34m\u001b[0m\u001b[0m\n\u001b[0m\u001b[1;32m      7\u001b[0m     \u001b[0;31m# update the learning rate\u001b[0m\u001b[0;34m\u001b[0m\u001b[0;34m\u001b[0m\u001b[0;34m\u001b[0m\u001b[0m\n\u001b[1;32m      8\u001b[0m     \u001b[0mlr_scheduler\u001b[0m\u001b[0;34m.\u001b[0m\u001b[0mstep\u001b[0m\u001b[0;34m(\u001b[0m\u001b[0;34m)\u001b[0m\u001b[0;34m\u001b[0m\u001b[0;34m\u001b[0m\u001b[0m\n",
            "\u001b[0;32m/content/engine.py\u001b[0m in \u001b[0;36mtrain_one_epoch\u001b[0;34m(model, optimizer, data_loader, device, epoch, print_freq, scaler)\u001b[0m\n\u001b[1;32m     29\u001b[0m         \u001b[0mtargets\u001b[0m \u001b[0;34m=\u001b[0m \u001b[0;34m[\u001b[0m\u001b[0;34m{\u001b[0m\u001b[0mk\u001b[0m\u001b[0;34m:\u001b[0m \u001b[0mv\u001b[0m\u001b[0;34m.\u001b[0m\u001b[0mto\u001b[0m\u001b[0;34m(\u001b[0m\u001b[0mdevice\u001b[0m\u001b[0;34m)\u001b[0m \u001b[0;32mfor\u001b[0m \u001b[0mk\u001b[0m\u001b[0;34m,\u001b[0m \u001b[0mv\u001b[0m \u001b[0;32min\u001b[0m \u001b[0mt\u001b[0m\u001b[0;34m.\u001b[0m\u001b[0mitems\u001b[0m\u001b[0;34m(\u001b[0m\u001b[0;34m)\u001b[0m\u001b[0;34m}\u001b[0m \u001b[0;32mfor\u001b[0m \u001b[0mt\u001b[0m \u001b[0;32min\u001b[0m \u001b[0mtargets\u001b[0m\u001b[0;34m]\u001b[0m\u001b[0;34m\u001b[0m\u001b[0;34m\u001b[0m\u001b[0m\n\u001b[1;32m     30\u001b[0m         \u001b[0;32mwith\u001b[0m \u001b[0mtorch\u001b[0m\u001b[0;34m.\u001b[0m\u001b[0mcuda\u001b[0m\u001b[0;34m.\u001b[0m\u001b[0mamp\u001b[0m\u001b[0;34m.\u001b[0m\u001b[0mautocast\u001b[0m\u001b[0;34m(\u001b[0m\u001b[0menabled\u001b[0m\u001b[0;34m=\u001b[0m\u001b[0mscaler\u001b[0m \u001b[0;32mis\u001b[0m \u001b[0;32mnot\u001b[0m \u001b[0;32mNone\u001b[0m\u001b[0;34m)\u001b[0m\u001b[0;34m:\u001b[0m\u001b[0;34m\u001b[0m\u001b[0;34m\u001b[0m\u001b[0m\n\u001b[0;32m---> 31\u001b[0;31m             \u001b[0mloss_dict\u001b[0m \u001b[0;34m=\u001b[0m \u001b[0mmodel\u001b[0m\u001b[0;34m(\u001b[0m\u001b[0mimages\u001b[0m\u001b[0;34m,\u001b[0m \u001b[0mtargets\u001b[0m\u001b[0;34m)\u001b[0m\u001b[0;34m\u001b[0m\u001b[0;34m\u001b[0m\u001b[0m\n\u001b[0m\u001b[1;32m     32\u001b[0m             \u001b[0mlosses\u001b[0m \u001b[0;34m=\u001b[0m \u001b[0msum\u001b[0m\u001b[0;34m(\u001b[0m\u001b[0mloss\u001b[0m \u001b[0;32mfor\u001b[0m \u001b[0mloss\u001b[0m \u001b[0;32min\u001b[0m \u001b[0mloss_dict\u001b[0m\u001b[0;34m.\u001b[0m\u001b[0mvalues\u001b[0m\u001b[0;34m(\u001b[0m\u001b[0;34m)\u001b[0m\u001b[0;34m)\u001b[0m\u001b[0;34m\u001b[0m\u001b[0;34m\u001b[0m\u001b[0m\n\u001b[1;32m     33\u001b[0m \u001b[0;34m\u001b[0m\u001b[0m\n",
            "\u001b[0;32m/usr/local/lib/python3.7/dist-packages/torch/nn/modules/module.py\u001b[0m in \u001b[0;36m_call_impl\u001b[0;34m(self, *input, **kwargs)\u001b[0m\n\u001b[1;32m   1100\u001b[0m         if not (self._backward_hooks or self._forward_hooks or self._forward_pre_hooks or _global_backward_hooks\n\u001b[1;32m   1101\u001b[0m                 or _global_forward_hooks or _global_forward_pre_hooks):\n\u001b[0;32m-> 1102\u001b[0;31m             \u001b[0;32mreturn\u001b[0m \u001b[0mforward_call\u001b[0m\u001b[0;34m(\u001b[0m\u001b[0;34m*\u001b[0m\u001b[0minput\u001b[0m\u001b[0;34m,\u001b[0m \u001b[0;34m**\u001b[0m\u001b[0mkwargs\u001b[0m\u001b[0;34m)\u001b[0m\u001b[0;34m\u001b[0m\u001b[0;34m\u001b[0m\u001b[0m\n\u001b[0m\u001b[1;32m   1103\u001b[0m         \u001b[0;31m# Do not call functions when jit is used\u001b[0m\u001b[0;34m\u001b[0m\u001b[0;34m\u001b[0m\u001b[0;34m\u001b[0m\u001b[0m\n\u001b[1;32m   1104\u001b[0m         \u001b[0mfull_backward_hooks\u001b[0m\u001b[0;34m,\u001b[0m \u001b[0mnon_full_backward_hooks\u001b[0m \u001b[0;34m=\u001b[0m \u001b[0;34m[\u001b[0m\u001b[0;34m]\u001b[0m\u001b[0;34m,\u001b[0m \u001b[0;34m[\u001b[0m\u001b[0;34m]\u001b[0m\u001b[0;34m\u001b[0m\u001b[0;34m\u001b[0m\u001b[0m\n",
            "\u001b[0;32m/usr/local/lib/python3.7/dist-packages/torchvision/models/detection/generalized_rcnn.py\u001b[0m in \u001b[0;36mforward\u001b[0;34m(self, images, targets)\u001b[0m\n\u001b[1;32m     94\u001b[0m         \u001b[0;32mif\u001b[0m \u001b[0misinstance\u001b[0m\u001b[0;34m(\u001b[0m\u001b[0mfeatures\u001b[0m\u001b[0;34m,\u001b[0m \u001b[0mtorch\u001b[0m\u001b[0;34m.\u001b[0m\u001b[0mTensor\u001b[0m\u001b[0;34m)\u001b[0m\u001b[0;34m:\u001b[0m\u001b[0;34m\u001b[0m\u001b[0;34m\u001b[0m\u001b[0m\n\u001b[1;32m     95\u001b[0m             \u001b[0mfeatures\u001b[0m \u001b[0;34m=\u001b[0m \u001b[0mOrderedDict\u001b[0m\u001b[0;34m(\u001b[0m\u001b[0;34m[\u001b[0m\u001b[0;34m(\u001b[0m\u001b[0;34m'0'\u001b[0m\u001b[0;34m,\u001b[0m \u001b[0mfeatures\u001b[0m\u001b[0;34m)\u001b[0m\u001b[0;34m]\u001b[0m\u001b[0;34m)\u001b[0m\u001b[0;34m\u001b[0m\u001b[0;34m\u001b[0m\u001b[0m\n\u001b[0;32m---> 96\u001b[0;31m         \u001b[0mproposals\u001b[0m\u001b[0;34m,\u001b[0m \u001b[0mproposal_losses\u001b[0m \u001b[0;34m=\u001b[0m \u001b[0mself\u001b[0m\u001b[0;34m.\u001b[0m\u001b[0mrpn\u001b[0m\u001b[0;34m(\u001b[0m\u001b[0mimages\u001b[0m\u001b[0;34m,\u001b[0m \u001b[0mfeatures\u001b[0m\u001b[0;34m,\u001b[0m \u001b[0mtargets\u001b[0m\u001b[0;34m)\u001b[0m\u001b[0;34m\u001b[0m\u001b[0;34m\u001b[0m\u001b[0m\n\u001b[0m\u001b[1;32m     97\u001b[0m         \u001b[0mdetections\u001b[0m\u001b[0;34m,\u001b[0m \u001b[0mdetector_losses\u001b[0m \u001b[0;34m=\u001b[0m \u001b[0mself\u001b[0m\u001b[0;34m.\u001b[0m\u001b[0mroi_heads\u001b[0m\u001b[0;34m(\u001b[0m\u001b[0mfeatures\u001b[0m\u001b[0;34m,\u001b[0m \u001b[0mproposals\u001b[0m\u001b[0;34m,\u001b[0m \u001b[0mimages\u001b[0m\u001b[0;34m.\u001b[0m\u001b[0mimage_sizes\u001b[0m\u001b[0;34m,\u001b[0m \u001b[0mtargets\u001b[0m\u001b[0;34m)\u001b[0m\u001b[0;34m\u001b[0m\u001b[0;34m\u001b[0m\u001b[0m\n\u001b[1;32m     98\u001b[0m         \u001b[0mdetections\u001b[0m \u001b[0;34m=\u001b[0m \u001b[0mself\u001b[0m\u001b[0;34m.\u001b[0m\u001b[0mtransform\u001b[0m\u001b[0;34m.\u001b[0m\u001b[0mpostprocess\u001b[0m\u001b[0;34m(\u001b[0m\u001b[0mdetections\u001b[0m\u001b[0;34m,\u001b[0m \u001b[0mimages\u001b[0m\u001b[0;34m.\u001b[0m\u001b[0mimage_sizes\u001b[0m\u001b[0;34m,\u001b[0m \u001b[0moriginal_image_sizes\u001b[0m\u001b[0;34m)\u001b[0m\u001b[0;34m\u001b[0m\u001b[0;34m\u001b[0m\u001b[0m\n",
            "\u001b[0;32m/usr/local/lib/python3.7/dist-packages/torch/nn/modules/module.py\u001b[0m in \u001b[0;36m_call_impl\u001b[0;34m(self, *input, **kwargs)\u001b[0m\n\u001b[1;32m   1100\u001b[0m         if not (self._backward_hooks or self._forward_hooks or self._forward_pre_hooks or _global_backward_hooks\n\u001b[1;32m   1101\u001b[0m                 or _global_forward_hooks or _global_forward_pre_hooks):\n\u001b[0;32m-> 1102\u001b[0;31m             \u001b[0;32mreturn\u001b[0m \u001b[0mforward_call\u001b[0m\u001b[0;34m(\u001b[0m\u001b[0;34m*\u001b[0m\u001b[0minput\u001b[0m\u001b[0;34m,\u001b[0m \u001b[0;34m**\u001b[0m\u001b[0mkwargs\u001b[0m\u001b[0;34m)\u001b[0m\u001b[0;34m\u001b[0m\u001b[0;34m\u001b[0m\u001b[0m\n\u001b[0m\u001b[1;32m   1103\u001b[0m         \u001b[0;31m# Do not call functions when jit is used\u001b[0m\u001b[0;34m\u001b[0m\u001b[0;34m\u001b[0m\u001b[0;34m\u001b[0m\u001b[0m\n\u001b[1;32m   1104\u001b[0m         \u001b[0mfull_backward_hooks\u001b[0m\u001b[0;34m,\u001b[0m \u001b[0mnon_full_backward_hooks\u001b[0m \u001b[0;34m=\u001b[0m \u001b[0;34m[\u001b[0m\u001b[0;34m]\u001b[0m\u001b[0;34m,\u001b[0m \u001b[0;34m[\u001b[0m\u001b[0;34m]\u001b[0m\u001b[0;34m\u001b[0m\u001b[0;34m\u001b[0m\u001b[0m\n",
            "\u001b[0;32m/usr/local/lib/python3.7/dist-packages/torchvision/models/detection/rpn.py\u001b[0m in \u001b[0;36mforward\u001b[0;34m(self, images, features, targets)\u001b[0m\n\u001b[1;32m    342\u001b[0m         \u001b[0mfeatures\u001b[0m \u001b[0;34m=\u001b[0m \u001b[0mlist\u001b[0m\u001b[0;34m(\u001b[0m\u001b[0mfeatures\u001b[0m\u001b[0;34m.\u001b[0m\u001b[0mvalues\u001b[0m\u001b[0;34m(\u001b[0m\u001b[0;34m)\u001b[0m\u001b[0;34m)\u001b[0m\u001b[0;34m\u001b[0m\u001b[0;34m\u001b[0m\u001b[0m\n\u001b[1;32m    343\u001b[0m         \u001b[0mobjectness\u001b[0m\u001b[0;34m,\u001b[0m \u001b[0mpred_bbox_deltas\u001b[0m \u001b[0;34m=\u001b[0m \u001b[0mself\u001b[0m\u001b[0;34m.\u001b[0m\u001b[0mhead\u001b[0m\u001b[0;34m(\u001b[0m\u001b[0mfeatures\u001b[0m\u001b[0;34m)\u001b[0m\u001b[0;34m\u001b[0m\u001b[0;34m\u001b[0m\u001b[0m\n\u001b[0;32m--> 344\u001b[0;31m         \u001b[0manchors\u001b[0m \u001b[0;34m=\u001b[0m \u001b[0mself\u001b[0m\u001b[0;34m.\u001b[0m\u001b[0manchor_generator\u001b[0m\u001b[0;34m(\u001b[0m\u001b[0mimages\u001b[0m\u001b[0;34m,\u001b[0m \u001b[0mfeatures\u001b[0m\u001b[0;34m)\u001b[0m\u001b[0;34m\u001b[0m\u001b[0;34m\u001b[0m\u001b[0m\n\u001b[0m\u001b[1;32m    345\u001b[0m \u001b[0;34m\u001b[0m\u001b[0m\n\u001b[1;32m    346\u001b[0m         \u001b[0mnum_images\u001b[0m \u001b[0;34m=\u001b[0m \u001b[0mlen\u001b[0m\u001b[0;34m(\u001b[0m\u001b[0manchors\u001b[0m\u001b[0;34m)\u001b[0m\u001b[0;34m\u001b[0m\u001b[0;34m\u001b[0m\u001b[0m\n",
            "\u001b[0;32m/usr/local/lib/python3.7/dist-packages/torch/nn/modules/module.py\u001b[0m in \u001b[0;36m_call_impl\u001b[0;34m(self, *input, **kwargs)\u001b[0m\n\u001b[1;32m   1100\u001b[0m         if not (self._backward_hooks or self._forward_hooks or self._forward_pre_hooks or _global_backward_hooks\n\u001b[1;32m   1101\u001b[0m                 or _global_forward_hooks or _global_forward_pre_hooks):\n\u001b[0;32m-> 1102\u001b[0;31m             \u001b[0;32mreturn\u001b[0m \u001b[0mforward_call\u001b[0m\u001b[0;34m(\u001b[0m\u001b[0;34m*\u001b[0m\u001b[0minput\u001b[0m\u001b[0;34m,\u001b[0m \u001b[0;34m**\u001b[0m\u001b[0mkwargs\u001b[0m\u001b[0;34m)\u001b[0m\u001b[0;34m\u001b[0m\u001b[0;34m\u001b[0m\u001b[0m\n\u001b[0m\u001b[1;32m   1103\u001b[0m         \u001b[0;31m# Do not call functions when jit is used\u001b[0m\u001b[0;34m\u001b[0m\u001b[0;34m\u001b[0m\u001b[0;34m\u001b[0m\u001b[0m\n\u001b[1;32m   1104\u001b[0m         \u001b[0mfull_backward_hooks\u001b[0m\u001b[0;34m,\u001b[0m \u001b[0mnon_full_backward_hooks\u001b[0m \u001b[0;34m=\u001b[0m \u001b[0;34m[\u001b[0m\u001b[0;34m]\u001b[0m\u001b[0;34m,\u001b[0m \u001b[0;34m[\u001b[0m\u001b[0;34m]\u001b[0m\u001b[0;34m\u001b[0m\u001b[0;34m\u001b[0m\u001b[0m\n",
            "\u001b[0;32m/usr/local/lib/python3.7/dist-packages/torchvision/models/detection/anchor_utils.py\u001b[0m in \u001b[0;36mforward\u001b[0;34m(self, image_list, feature_maps)\u001b[0m\n\u001b[1;32m    121\u001b[0m         \u001b[0mdtype\u001b[0m\u001b[0;34m,\u001b[0m \u001b[0mdevice\u001b[0m \u001b[0;34m=\u001b[0m \u001b[0mfeature_maps\u001b[0m\u001b[0;34m[\u001b[0m\u001b[0;36m0\u001b[0m\u001b[0;34m]\u001b[0m\u001b[0;34m.\u001b[0m\u001b[0mdtype\u001b[0m\u001b[0;34m,\u001b[0m \u001b[0mfeature_maps\u001b[0m\u001b[0;34m[\u001b[0m\u001b[0;36m0\u001b[0m\u001b[0;34m]\u001b[0m\u001b[0;34m.\u001b[0m\u001b[0mdevice\u001b[0m\u001b[0;34m\u001b[0m\u001b[0;34m\u001b[0m\u001b[0m\n\u001b[1;32m    122\u001b[0m         strides = [[torch.tensor(image_size[0] // g[0], dtype=torch.int64, device=device),\n\u001b[0;32m--> 123\u001b[0;31m                     torch.tensor(image_size[1] // g[1], dtype=torch.int64, device=device)] for g in grid_sizes]\n\u001b[0m\u001b[1;32m    124\u001b[0m         \u001b[0mself\u001b[0m\u001b[0;34m.\u001b[0m\u001b[0mset_cell_anchors\u001b[0m\u001b[0;34m(\u001b[0m\u001b[0mdtype\u001b[0m\u001b[0;34m,\u001b[0m \u001b[0mdevice\u001b[0m\u001b[0;34m)\u001b[0m\u001b[0;34m\u001b[0m\u001b[0;34m\u001b[0m\u001b[0m\n\u001b[1;32m    125\u001b[0m         \u001b[0manchors_over_all_feature_maps\u001b[0m \u001b[0;34m=\u001b[0m \u001b[0mself\u001b[0m\u001b[0;34m.\u001b[0m\u001b[0mgrid_anchors\u001b[0m\u001b[0;34m(\u001b[0m\u001b[0mgrid_sizes\u001b[0m\u001b[0;34m,\u001b[0m \u001b[0mstrides\u001b[0m\u001b[0;34m)\u001b[0m\u001b[0;34m\u001b[0m\u001b[0;34m\u001b[0m\u001b[0m\n",
            "\u001b[0;32m/usr/local/lib/python3.7/dist-packages/torchvision/models/detection/anchor_utils.py\u001b[0m in \u001b[0;36m<listcomp>\u001b[0;34m(.0)\u001b[0m\n\u001b[1;32m    121\u001b[0m         \u001b[0mdtype\u001b[0m\u001b[0;34m,\u001b[0m \u001b[0mdevice\u001b[0m \u001b[0;34m=\u001b[0m \u001b[0mfeature_maps\u001b[0m\u001b[0;34m[\u001b[0m\u001b[0;36m0\u001b[0m\u001b[0;34m]\u001b[0m\u001b[0;34m.\u001b[0m\u001b[0mdtype\u001b[0m\u001b[0;34m,\u001b[0m \u001b[0mfeature_maps\u001b[0m\u001b[0;34m[\u001b[0m\u001b[0;36m0\u001b[0m\u001b[0;34m]\u001b[0m\u001b[0;34m.\u001b[0m\u001b[0mdevice\u001b[0m\u001b[0;34m\u001b[0m\u001b[0;34m\u001b[0m\u001b[0m\n\u001b[1;32m    122\u001b[0m         strides = [[torch.tensor(image_size[0] // g[0], dtype=torch.int64, device=device),\n\u001b[0;32m--> 123\u001b[0;31m                     torch.tensor(image_size[1] // g[1], dtype=torch.int64, device=device)] for g in grid_sizes]\n\u001b[0m\u001b[1;32m    124\u001b[0m         \u001b[0mself\u001b[0m\u001b[0;34m.\u001b[0m\u001b[0mset_cell_anchors\u001b[0m\u001b[0;34m(\u001b[0m\u001b[0mdtype\u001b[0m\u001b[0;34m,\u001b[0m \u001b[0mdevice\u001b[0m\u001b[0;34m)\u001b[0m\u001b[0;34m\u001b[0m\u001b[0;34m\u001b[0m\u001b[0m\n\u001b[1;32m    125\u001b[0m         \u001b[0manchors_over_all_feature_maps\u001b[0m \u001b[0;34m=\u001b[0m \u001b[0mself\u001b[0m\u001b[0;34m.\u001b[0m\u001b[0mgrid_anchors\u001b[0m\u001b[0;34m(\u001b[0m\u001b[0mgrid_sizes\u001b[0m\u001b[0;34m,\u001b[0m \u001b[0mstrides\u001b[0m\u001b[0;34m)\u001b[0m\u001b[0;34m\u001b[0m\u001b[0;34m\u001b[0m\u001b[0m\n",
            "\u001b[0;31mKeyboardInterrupt\u001b[0m: "
          ]
        }
      ]
    },
    {
      "cell_type": "markdown",
      "source": [
        "# Decoding predictions"
      ],
      "metadata": {
        "id": "MJgX7x0ZCvLj"
      }
    },
    {
      "cell_type": "code",
      "source": [
        "# the function takes the original prediction and the iou threshold.\n",
        "\n",
        "def apply_nms(orig_prediction, iou_thresh=0.3):\n",
        "    \n",
        "    # torchvision returns the indices of the bboxes to keep\n",
        "    keep = torchvision.ops.nms(orig_prediction['boxes'], orig_prediction['scores'], iou_thresh)\n",
        "    \n",
        "    final_prediction = orig_prediction\n",
        "    final_prediction['boxes'] = final_prediction['boxes'][keep]\n",
        "    final_prediction['scores'] = final_prediction['scores'][keep]\n",
        "    final_prediction['labels'] = final_prediction['labels'][keep]\n",
        "    \n",
        "    return final_prediction\n",
        "\n",
        "# function to convert a torchtensor back to PIL image\n",
        "def torch_to_pil(img):\n",
        "    return torchtrans.ToPILImage()(img).convert('RGB')"
      ],
      "metadata": {
        "id": "Uz7UQblPCxMW"
      },
      "execution_count": null,
      "outputs": []
    },
    {
      "cell_type": "markdown",
      "source": [
        "# Test the model"
      ],
      "metadata": {
        "id": "sh8YlJeKC1G3"
      }
    },
    {
      "cell_type": "code",
      "source": [
        "# pick one image from the test set\n",
        "img, target = dataset_test[10]\n",
        "# put the model in evaluation mode\n",
        "model.eval()\n",
        "with torch.no_grad():\n",
        "    prediction = model([img.to(device)])[0]\n",
        "    \n",
        "print('predicted #boxes: ', len(prediction['labels']))\n",
        "print('real #boxes: ', len(target['labels']))"
      ],
      "metadata": {
        "id": "g3vJcpRKC2U_"
      },
      "execution_count": null,
      "outputs": []
    },
    {
      "cell_type": "code",
      "source": [
        "print('EXPECTED OUTPUT')\n",
        "plot_img_bbox(torch_to_pil(img), target)"
      ],
      "metadata": {
        "id": "JSsoAEMvC6Ud"
      },
      "execution_count": null,
      "outputs": []
    },
    {
      "cell_type": "code",
      "source": [
        "nms_prediction = apply_nms(prediction, iou_thresh=0.2)\n",
        "print('NMS APPLIED MODEL OUTPUT')\n",
        "#plot_img_bbox(torch_to_pil(img), nms_prediction)"
      ],
      "metadata": {
        "id": "gljyIRp_C_j1"
      },
      "execution_count": null,
      "outputs": []
    },
    {
      "cell_type": "code",
      "source": [
        "test_dataset = SelfDrivingCarDataset(test_dir, 1280, 720, transforms= get_transform(train=True))\n",
        "# pick one image from the test set\n",
        "img, target = test_dataset[10]\n",
        "# put the model in evaluation mode\n",
        "model.eval()\n",
        "with torch.no_grad():\n",
        "    prediction = model([img.to(device)])[0]\n",
        "    \n",
        "print('EXPECTED OUTPUT\\n')\n",
        "plot_img_bbox(torch_to_pil(img), target)\n",
        "print('MODEL OUTPUT\\n')\n",
        "nms_prediction = apply_nms(prediction, iou_thresh=0.01)\n",
        "\n",
        "plot_img_bbox(torch_to_pil(img), nms_prediction)"
      ],
      "metadata": {
        "id": "rgjtJfDqDCph"
      },
      "execution_count": null,
      "outputs": []
    }
  ]
}