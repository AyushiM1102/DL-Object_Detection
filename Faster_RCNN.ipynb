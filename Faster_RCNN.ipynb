{
  "nbformat": 4,
  "nbformat_minor": 0,
  "metadata": {
    "colab": {
      "name": "Faster_RCNN.ipynb",
      "provenance": [],
      "authorship_tag": "ABX9TyPNi/lsFGwZ1T3vdE42euv6",
      "include_colab_link": true
    },
    "kernelspec": {
      "name": "python3",
      "display_name": "Python 3"
    },
    "language_info": {
      "name": "python"
    }
  },
  "cells": [
    {
      "cell_type": "markdown",
      "metadata": {
        "id": "view-in-github",
        "colab_type": "text"
      },
      "source": [
        "<a href=\"https://colab.research.google.com/github/amcheyre-nw/DL_Object_detection/blob/main/Faster_RCNN.ipynb\" target=\"_parent\"><img src=\"https://colab.research.google.com/assets/colab-badge.svg\" alt=\"Open In Colab\"/></a>"
      ]
    },
    {
      "cell_type": "code",
      "execution_count": 1,
      "metadata": {
        "id": "eHDXrkgp5ZT4",
        "colab": {
          "base_uri": "https://localhost:8080/"
        },
        "outputId": "a61e8083-6c05-4ea8-d322-0bd7bd4f911c"
      },
      "outputs": [
        {
          "output_type": "stream",
          "name": "stdout",
          "text": [
            "fatal: destination path 'vision' already exists and is not an empty directory.\n",
            "fatal: not a git repository (or any of the parent directories): .git\n"
          ]
        }
      ],
      "source": [
        "# Download TorchVision repo to use some files from references/detection\n",
        "!pip install pycocotools --quiet\n",
        "!git clone https://github.com/pytorch/vision.git\n",
        "!git checkout v0.3.0\n",
        "\n",
        "!cp vision/references/detection/utils.py ./\n",
        "!cp vision/references/detection/transforms.py ./\n",
        "!cp vision/references/detection/coco_eval.py ./\n",
        "!cp vision/references/detection/engine.py ./\n",
        "!cp vision/references/detection/coco_utils.py ./"
      ]
    },
    {
      "cell_type": "code",
      "source": [
        "# Install libraries\n",
        "#! pip install albumentations==0.4.6"
      ],
      "metadata": {
        "id": "2i3qeD4VEGRC"
      },
      "execution_count": null,
      "outputs": []
    },
    {
      "cell_type": "code",
      "source": [
        "# Python and ML Libraries\n",
        "import os\n",
        "import random\n",
        "import numpy as np\n",
        "import pandas as pd\n",
        "# for ignoring warnings\n",
        "import warnings\n",
        "warnings.filterwarnings('ignore')\n",
        "\n",
        "# We will be reading images using OpenCV\n",
        "import cv2\n",
        "\n",
        "# xml library for parsing xml files\n",
        "from xml.etree import ElementTree as et\n",
        "\n",
        "# matplotlib for visualization\n",
        "import matplotlib.pyplot as plt\n",
        "import matplotlib.patches as patches\n",
        "\n",
        "# torchvision libraries\n",
        "import torch\n",
        "import torchvision\n",
        "from torchvision import transforms as torchtrans  \n",
        "from torchvision.models.detection.faster_rcnn import FastRCNNPredictor\n",
        "\n",
        "# these are the helper libraries imported.\n",
        "from engine import train_one_epoch, evaluate\n",
        "import utils\n",
        "import transforms as T\n",
        "\n",
        "# for image augmentations (not working this)\n",
        "#import albumentations as A\n",
        "#from albumentations.pytorch.transforms import ToTensorV2"
      ],
      "metadata": {
        "id": "eDX6htmdAMRy"
      },
      "execution_count": 7,
      "outputs": []
    },
    {
      "cell_type": "markdown",
      "source": [
        "BBD100K Dataset"
      ],
      "metadata": {
        "id": "tlQQdpnwDLht"
      }
    },
    {
      "cell_type": "code",
      "source": [
        "# NEED TO WORK ON THIS\n",
        "# defining the files directory and testing directory\n",
        "files_dir = '../input/fruit-images-for-object-detection/train_zip/train'\n",
        "test_dir = '../input/fruit-images-for-object-detection/test_zip/test'\n",
        "\n",
        "\n",
        "class FruitImagesDataset(torch.utils.data.Dataset):\n",
        "\n",
        "    def __init__(self, files_dir, width, height, transforms=None):\n",
        "        self.transforms = transforms\n",
        "        self.files_dir = files_dir\n",
        "        self.height = height\n",
        "        self.width = width\n",
        "        \n",
        "        # sorting the images for consistency\n",
        "        # To get images, the extension of the filename is checked to be jpg\n",
        "        self.imgs = [image for image in sorted(os.listdir(files_dir))\n",
        "                        if image[-4:]=='.jpg']\n",
        "        \n",
        "        \n",
        "        # classes: 0 index is reserved for background\n",
        "        self.classes = [_, 'apple','banana','orange']\n",
        "\n",
        "    def __getitem__(self, idx):\n",
        "\n",
        "        img_name = self.imgs[idx]\n",
        "        image_path = os.path.join(self.files_dir, img_name)\n",
        "\n",
        "        # reading the images and converting them to correct size and color    \n",
        "        img = cv2.imread(image_path)\n",
        "        img_rgb = cv2.cvtColor(img, cv2.COLOR_BGR2RGB).astype(np.float32)\n",
        "        img_res = cv2.resize(img_rgb, (self.width, self.height), cv2.INTER_AREA)\n",
        "        # diving by 255\n",
        "        img_res /= 255.0\n",
        "        \n",
        "        # annotation file\n",
        "        annot_filename = img_name[:-4] + '.xml'\n",
        "        annot_file_path = os.path.join(self.files_dir, annot_filename)\n",
        "        \n",
        "        boxes = []\n",
        "        labels = []\n",
        "        tree = et.parse(annot_file_path)\n",
        "        root = tree.getroot()\n",
        "        \n",
        "        # cv2 image gives size as height x width\n",
        "        wt = img.shape[1]\n",
        "        ht = img.shape[0]\n",
        "        \n",
        "        # box coordinates for xml files are extracted and corrected for image size given\n",
        "        for member in root.findall('object'):\n",
        "            labels.append(self.classes.index(member.find('name').text))\n",
        "            \n",
        "            # bounding box\n",
        "            xmin = int(member.find('bndbox').find('xmin').text)\n",
        "            xmax = int(member.find('bndbox').find('xmax').text)\n",
        "            \n",
        "            ymin = int(member.find('bndbox').find('ymin').text)\n",
        "            ymax = int(member.find('bndbox').find('ymax').text)\n",
        "            \n",
        "            \n",
        "            xmin_corr = (xmin/wt)*self.width\n",
        "            xmax_corr = (xmax/wt)*self.width\n",
        "            ymin_corr = (ymin/ht)*self.height\n",
        "            ymax_corr = (ymax/ht)*self.height\n",
        "            \n",
        "            boxes.append([xmin_corr, ymin_corr, xmax_corr, ymax_corr])\n",
        "        \n",
        "        # convert boxes into a torch.Tensor\n",
        "        boxes = torch.as_tensor(boxes, dtype=torch.float32)\n",
        "        \n",
        "        # getting the areas of the boxes\n",
        "        area = (boxes[:, 3] - boxes[:, 1]) * (boxes[:, 2] - boxes[:, 0])\n",
        "\n",
        "        # suppose all instances are not crowd\n",
        "        iscrowd = torch.zeros((boxes.shape[0],), dtype=torch.int64)\n",
        "        \n",
        "        labels = torch.as_tensor(labels, dtype=torch.int64)\n",
        "\n",
        "\n",
        "        target = {}\n",
        "        target[\"boxes\"] = boxes\n",
        "        target[\"labels\"] = labels\n",
        "        target[\"area\"] = area\n",
        "        target[\"iscrowd\"] = iscrowd\n",
        "        # image_id\n",
        "        image_id = torch.tensor([idx])\n",
        "        target[\"image_id\"] = image_id\n",
        "\n",
        "\n",
        "        if self.transforms:\n",
        "            \n",
        "            sample = self.transforms(image = img_res,\n",
        "                                     bboxes = target['boxes'],\n",
        "                                     labels = labels)\n",
        "            \n",
        "            img_res = sample['image']\n",
        "            target['boxes'] = torch.Tensor(sample['bboxes'])\n",
        "            \n",
        "            \n",
        "            \n",
        "        return img_res, target\n",
        "\n",
        "    def __len__(self):\n",
        "        return len(self.imgs)\n",
        "\n",
        "\n",
        "# check dataset\n",
        "dataset = FruitImagesDataset(files_dir, 224, 224)\n",
        "print('length of dataset = ', len(dataset), '\\n')\n",
        "\n",
        "# getting the image and target for a test index.  Feel free to change the index.\n",
        "img, target = dataset[78]\n",
        "print(img.shape, '\\n',target)"
      ],
      "metadata": {
        "id": "SM-o5OTGBfC6"
      },
      "execution_count": null,
      "outputs": []
    },
    {
      "cell_type": "markdown",
      "source": [
        "Visualization of bounding boxes"
      ],
      "metadata": {
        "id": "iV86SfIPDSFC"
      }
    },
    {
      "cell_type": "code",
      "source": [
        "def plot_img_bbox(img, target):\n",
        "    # plot the image and bboxes\n",
        "    # Bounding boxes are defined as follows: x-min y-min width height\n",
        "    fig, a = plt.subplots(1,1)\n",
        "    fig.set_size_inches(5,5)\n",
        "    a.imshow(img)\n",
        "    for box in (target['boxes']):\n",
        "        x, y, width, height  = box[0], box[1], box[2]-box[0], box[3]-box[1]\n",
        "        rect = patches.Rectangle((x, y),\n",
        "                                 width, height,\n",
        "                                 linewidth = 2,\n",
        "                                 edgecolor = 'r',\n",
        "                                 facecolor = 'none')\n",
        "\n",
        "        # Draw the bounding box on top of the image\n",
        "        a.add_patch(rect)\n",
        "    plt.show()\n",
        "    \n",
        "# plotting the image with bboxes. Feel free to change the index\n",
        "img, target = dataset[25]\n",
        "plot_img_bbox(img, target)"
      ],
      "metadata": {
        "id": "IVQOnu42Btzc"
      },
      "execution_count": null,
      "outputs": []
    },
    {
      "cell_type": "markdown",
      "source": [
        "Load the pre-trained model Fast RCNN"
      ],
      "metadata": {
        "id": "EPuFaJVbDXFR"
      }
    },
    {
      "cell_type": "code",
      "source": [
        "# Pre-trained model\n",
        "def get_object_detection_model(num_classes):\n",
        "\n",
        "    # load a model pre-trained pre-trained on COCO\n",
        "    model = torchvision.models.detection.fasterrcnn_resnet50_fpn(pretrained=True)\n",
        "    \n",
        "    # get number of input features for the classifier\n",
        "    in_features = model.roi_heads.box_predictor.cls_score.in_features\n",
        "    # replace the pre-trained head with a new one\n",
        "    model.roi_heads.box_predictor = FastRCNNPredictor(in_features, num_classes) \n",
        "\n",
        "    return model"
      ],
      "metadata": {
        "id": "_UG78sLW5tTH"
      },
      "execution_count": null,
      "outputs": []
    },
    {
      "cell_type": "markdown",
      "source": [
        "Data Augmentation"
      ],
      "metadata": {
        "id": "-eS-ROSFDbxA"
      }
    },
    {
      "cell_type": "code",
      "source": [
        "# Send train=True fro training transforms and False for val/test transforms\n",
        "def get_transform(train):\n",
        "    \n",
        "    if train:\n",
        "        return A.Compose([\n",
        "                            A.HorizontalFlip(0.5),\n",
        "                     # ToTensorV2 converts image to pytorch tensor without div by 255\n",
        "                            ToTensorV2(p=1.0) \n",
        "                        ], bbox_params={'format': 'pascal_voc', 'label_fields': ['labels']})\n",
        "    else:\n",
        "        return A.Compose([\n",
        "                            ToTensorV2(p=1.0)\n",
        "                        ], bbox_params={'format': 'pascal_voc', 'label_fields': ['labels']})"
      ],
      "metadata": {
        "id": "ddZQojpBB9fC"
      },
      "execution_count": null,
      "outputs": []
    },
    {
      "cell_type": "markdown",
      "source": [
        "Preparing dataset"
      ],
      "metadata": {
        "id": "tr9wmyiOCLLt"
      }
    },
    {
      "cell_type": "code",
      "source": [
        "# NEED TO WORK ON THIS\n",
        "# use our dataset and defined transformations\n",
        "dataset = FruitImagesDataset(files_dir, 480, 480, transforms= get_transform(train=True))\n",
        "dataset_test = FruitImagesDataset(files_dir, 480, 480, transforms= get_transform(train=False))\n",
        "\n",
        "# split the dataset in train and test set\n",
        "torch.manual_seed(1)\n",
        "indices = torch.randperm(len(dataset)).tolist()\n",
        "\n",
        "# train test split\n",
        "test_split = 0.2\n",
        "tsize = int(len(dataset)*test_split)\n",
        "dataset = torch.utils.data.Subset(dataset, indices[:-tsize])\n",
        "dataset_test = torch.utils.data.Subset(dataset_test, indices[-tsize:])\n",
        "\n",
        "# define training and validation data loaders\n",
        "data_loader = torch.utils.data.DataLoader(\n",
        "    dataset, batch_size=10, shuffle=True, num_workers=4,\n",
        "    collate_fn=utils.collate_fn)\n",
        "\n",
        "data_loader_test = torch.utils.data.DataLoader(\n",
        "    dataset_test, batch_size=10, shuffle=False, num_workers=4,\n",
        "    collate_fn=utils.collate_fn)\n"
      ],
      "metadata": {
        "id": "MMlxqxjLCP2R"
      },
      "execution_count": null,
      "outputs": []
    },
    {
      "cell_type": "markdown",
      "source": [
        "Training the model"
      ],
      "metadata": {
        "id": "zSQRx_HpChAM"
      }
    },
    {
      "cell_type": "code",
      "source": [
        "# to train on gpu if selected.\n",
        "device = torch.device('cuda') if torch.cuda.is_available() else torch.device('cpu')\n",
        "\n",
        "\n",
        "num_classes = 10\n",
        "\n",
        "# get the model using our helper function\n",
        "model = get_object_detection_model(num_classes)\n",
        "\n",
        "# move model to the right device\n",
        "model.to(device)\n",
        "\n",
        "# construct an optimizer\n",
        "params = [p for p in model.parameters() if p.requires_grad]\n",
        "optimizer = torch.optim.SGD(params, lr=0.005,\n",
        "                            momentum=0.9, weight_decay=0.0005)\n",
        "\n",
        "# and a learning rate scheduler which decreases the learning rate by\n",
        "# 10x every 3 epochs\n",
        "lr_scheduler = torch.optim.lr_scheduler.StepLR(optimizer,\n",
        "                                               step_size=3,\n",
        "                                               gamma=0.1)"
      ],
      "metadata": {
        "id": "c3aF5XBpCi8G"
      },
      "execution_count": null,
      "outputs": []
    },
    {
      "cell_type": "code",
      "source": [
        "# training for 10 epochs\n",
        "num_epochs = 10\n",
        "\n",
        "for epoch in range(num_epochs):\n",
        "    # training for one epoch\n",
        "    train_one_epoch(model, optimizer, data_loader, device, epoch, print_freq=10)\n",
        "    # update the learning rate\n",
        "    lr_scheduler.step()\n",
        "    # evaluate on the test dataset\n",
        "    evaluate(model, data_loader_test, device=device)"
      ],
      "metadata": {
        "id": "1dHLDYXHCUBo"
      },
      "execution_count": null,
      "outputs": []
    },
    {
      "cell_type": "markdown",
      "source": [
        "Decoding predictions"
      ],
      "metadata": {
        "id": "MJgX7x0ZCvLj"
      }
    },
    {
      "cell_type": "code",
      "source": [
        "# the function takes the original prediction and the iou threshold.\n",
        "\n",
        "def apply_nms(orig_prediction, iou_thresh=0.3):\n",
        "    \n",
        "    # torchvision returns the indices of the bboxes to keep\n",
        "    keep = torchvision.ops.nms(orig_prediction['boxes'], orig_prediction['scores'], iou_thresh)\n",
        "    \n",
        "    final_prediction = orig_prediction\n",
        "    final_prediction['boxes'] = final_prediction['boxes'][keep]\n",
        "    final_prediction['scores'] = final_prediction['scores'][keep]\n",
        "    final_prediction['labels'] = final_prediction['labels'][keep]\n",
        "    \n",
        "    return final_prediction\n",
        "\n",
        "# function to convert a torchtensor back to PIL image\n",
        "def torch_to_pil(img):\n",
        "    return torchtrans.ToPILImage()(img).convert('RGB')"
      ],
      "metadata": {
        "id": "Uz7UQblPCxMW"
      },
      "execution_count": null,
      "outputs": []
    },
    {
      "cell_type": "markdown",
      "source": [
        "Test the model"
      ],
      "metadata": {
        "id": "sh8YlJeKC1G3"
      }
    },
    {
      "cell_type": "code",
      "source": [
        "# pick one image from the test set\n",
        "img, target = dataset_test[5]\n",
        "# put the model in evaluation mode\n",
        "model.eval()\n",
        "with torch.no_grad():\n",
        "    prediction = model([img.to(device)])[0]\n",
        "    \n",
        "print('predicted #boxes: ', len(prediction['labels']))\n",
        "print('real #boxes: ', len(target['labels']))"
      ],
      "metadata": {
        "id": "g3vJcpRKC2U_"
      },
      "execution_count": null,
      "outputs": []
    },
    {
      "cell_type": "code",
      "source": [
        "print('EXPECTED OUTPUT')\n",
        "plot_img_bbox(torch_to_pil(img), target)"
      ],
      "metadata": {
        "id": "JSsoAEMvC6Ud"
      },
      "execution_count": null,
      "outputs": []
    },
    {
      "cell_type": "code",
      "source": [
        "nms_prediction = apply_nms(prediction, iou_thresh=0.2)\n",
        "print('NMS APPLIED MODEL OUTPUT')\n",
        "plot_img_bbox(torch_to_pil(img), nms_prediction)"
      ],
      "metadata": {
        "id": "gljyIRp_C_j1"
      },
      "execution_count": null,
      "outputs": []
    },
    {
      "cell_type": "code",
      "source": [
        "test_dataset = FruitImagesDataset(test_dir, 480, 480, transforms= get_transform(train=True))\n",
        "# pick one image from the test set\n",
        "img, target = test_dataset[10]\n",
        "# put the model in evaluation mode\n",
        "model.eval()\n",
        "with torch.no_grad():\n",
        "    prediction = model([img.to(device)])[0]\n",
        "    \n",
        "print('EXPECTED OUTPUT\\n')\n",
        "plot_img_bbox(torch_to_pil(img), target)\n",
        "print('MODEL OUTPUT\\n')\n",
        "nms_prediction = apply_nms(prediction, iou_thresh=0.01)\n",
        "\n",
        "plot_img_bbox(torch_to_pil(img), nms_prediction)"
      ],
      "metadata": {
        "id": "rgjtJfDqDCph"
      },
      "execution_count": null,
      "outputs": []
    }
  ]
}